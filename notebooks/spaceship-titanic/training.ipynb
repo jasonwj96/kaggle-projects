{
 "cells": [
  {
   "metadata": {
    "ExecuteTime": {
     "end_time": "2025-06-30T02:40:04.758347Z",
     "start_time": "2025-06-30T02:40:04.754932Z"
    }
   },
   "cell_type": "code",
   "source": [
    "import pandas as pd\n",
    "import matplotlib.pyplot as plt\n",
    "from xgboost import XGBClassifier, plot_importance\n",
    "from sklearn.model_selection import train_test_split\n",
    "from sklearn.metrics import accuracy_score, classification_report\n",
    "from sklearn.model_selection import GridSearchCV\n",
    "import joblib"
   ],
   "id": "ecd0c78b8cb757b6",
   "outputs": [],
   "execution_count": 15
  },
  {
   "metadata": {
    "ExecuteTime": {
     "end_time": "2025-06-30T02:40:04.804836Z",
     "start_time": "2025-06-30T02:40:04.787831Z"
    }
   },
   "cell_type": "code",
   "source": [
    "train_df = pd.read_parquet(\"data/spaceship-titanic-train.parquet\")\n",
    "train_df.head()"
   ],
   "id": "3f95810ff394637f",
   "outputs": [
    {
     "data": {
      "text/plain": [
       "  PassengerId HomePlanet  CryoSleep  Destination   Age    VIP  RoomService  \\\n",
       "0     0001_01     Europa      False  TRAPPIST-1e  39.0  False          0.0   \n",
       "1     0002_01      Earth      False  TRAPPIST-1e  24.0  False        109.0   \n",
       "2     0003_01     Europa      False  TRAPPIST-1e  58.0   True         43.0   \n",
       "3     0003_02     Europa      False  TRAPPIST-1e  33.0  False          0.0   \n",
       "4     0004_01      Earth      False  TRAPPIST-1e  16.0  False        303.0   \n",
       "\n",
       "   FoodCourt  ShoppingMall     Spa  VRDeck  Transported Cabin_deck  Cabin_num  \\\n",
       "0        0.0           0.0     0.0     0.0        False          B        0.0   \n",
       "1        9.0          25.0   549.0    44.0         True          F        0.0   \n",
       "2     3576.0           0.0  6715.0    49.0        False          A        0.0   \n",
       "3     1283.0         371.0  3329.0   193.0        False          A        0.0   \n",
       "4       70.0         151.0   565.0     2.0         True          F        1.0   \n",
       "\n",
       "  Cabin_side  \n",
       "0          P  \n",
       "1          S  \n",
       "2          S  \n",
       "3          S  \n",
       "4          S  "
      ],
      "text/html": [
       "<div>\n",
       "<style scoped>\n",
       "    .dataframe tbody tr th:only-of-type {\n",
       "        vertical-align: middle;\n",
       "    }\n",
       "\n",
       "    .dataframe tbody tr th {\n",
       "        vertical-align: top;\n",
       "    }\n",
       "\n",
       "    .dataframe thead th {\n",
       "        text-align: right;\n",
       "    }\n",
       "</style>\n",
       "<table border=\"1\" class=\"dataframe\">\n",
       "  <thead>\n",
       "    <tr style=\"text-align: right;\">\n",
       "      <th></th>\n",
       "      <th>PassengerId</th>\n",
       "      <th>HomePlanet</th>\n",
       "      <th>CryoSleep</th>\n",
       "      <th>Destination</th>\n",
       "      <th>Age</th>\n",
       "      <th>VIP</th>\n",
       "      <th>RoomService</th>\n",
       "      <th>FoodCourt</th>\n",
       "      <th>ShoppingMall</th>\n",
       "      <th>Spa</th>\n",
       "      <th>VRDeck</th>\n",
       "      <th>Transported</th>\n",
       "      <th>Cabin_deck</th>\n",
       "      <th>Cabin_num</th>\n",
       "      <th>Cabin_side</th>\n",
       "    </tr>\n",
       "  </thead>\n",
       "  <tbody>\n",
       "    <tr>\n",
       "      <th>0</th>\n",
       "      <td>0001_01</td>\n",
       "      <td>Europa</td>\n",
       "      <td>False</td>\n",
       "      <td>TRAPPIST-1e</td>\n",
       "      <td>39.0</td>\n",
       "      <td>False</td>\n",
       "      <td>0.0</td>\n",
       "      <td>0.0</td>\n",
       "      <td>0.0</td>\n",
       "      <td>0.0</td>\n",
       "      <td>0.0</td>\n",
       "      <td>False</td>\n",
       "      <td>B</td>\n",
       "      <td>0.0</td>\n",
       "      <td>P</td>\n",
       "    </tr>\n",
       "    <tr>\n",
       "      <th>1</th>\n",
       "      <td>0002_01</td>\n",
       "      <td>Earth</td>\n",
       "      <td>False</td>\n",
       "      <td>TRAPPIST-1e</td>\n",
       "      <td>24.0</td>\n",
       "      <td>False</td>\n",
       "      <td>109.0</td>\n",
       "      <td>9.0</td>\n",
       "      <td>25.0</td>\n",
       "      <td>549.0</td>\n",
       "      <td>44.0</td>\n",
       "      <td>True</td>\n",
       "      <td>F</td>\n",
       "      <td>0.0</td>\n",
       "      <td>S</td>\n",
       "    </tr>\n",
       "    <tr>\n",
       "      <th>2</th>\n",
       "      <td>0003_01</td>\n",
       "      <td>Europa</td>\n",
       "      <td>False</td>\n",
       "      <td>TRAPPIST-1e</td>\n",
       "      <td>58.0</td>\n",
       "      <td>True</td>\n",
       "      <td>43.0</td>\n",
       "      <td>3576.0</td>\n",
       "      <td>0.0</td>\n",
       "      <td>6715.0</td>\n",
       "      <td>49.0</td>\n",
       "      <td>False</td>\n",
       "      <td>A</td>\n",
       "      <td>0.0</td>\n",
       "      <td>S</td>\n",
       "    </tr>\n",
       "    <tr>\n",
       "      <th>3</th>\n",
       "      <td>0003_02</td>\n",
       "      <td>Europa</td>\n",
       "      <td>False</td>\n",
       "      <td>TRAPPIST-1e</td>\n",
       "      <td>33.0</td>\n",
       "      <td>False</td>\n",
       "      <td>0.0</td>\n",
       "      <td>1283.0</td>\n",
       "      <td>371.0</td>\n",
       "      <td>3329.0</td>\n",
       "      <td>193.0</td>\n",
       "      <td>False</td>\n",
       "      <td>A</td>\n",
       "      <td>0.0</td>\n",
       "      <td>S</td>\n",
       "    </tr>\n",
       "    <tr>\n",
       "      <th>4</th>\n",
       "      <td>0004_01</td>\n",
       "      <td>Earth</td>\n",
       "      <td>False</td>\n",
       "      <td>TRAPPIST-1e</td>\n",
       "      <td>16.0</td>\n",
       "      <td>False</td>\n",
       "      <td>303.0</td>\n",
       "      <td>70.0</td>\n",
       "      <td>151.0</td>\n",
       "      <td>565.0</td>\n",
       "      <td>2.0</td>\n",
       "      <td>True</td>\n",
       "      <td>F</td>\n",
       "      <td>1.0</td>\n",
       "      <td>S</td>\n",
       "    </tr>\n",
       "  </tbody>\n",
       "</table>\n",
       "</div>"
      ]
     },
     "execution_count": 16,
     "metadata": {},
     "output_type": "execute_result"
    }
   ],
   "execution_count": 16
  },
  {
   "metadata": {
    "ExecuteTime": {
     "end_time": "2025-06-30T02:40:04.924433Z",
     "start_time": "2025-06-30T02:40:04.915029Z"
    }
   },
   "cell_type": "code",
   "source": [
    "X = train_df.drop(\"Transported\", axis=1)\n",
    "y = train_df[\"Transported\"]\n",
    "X_train, X_test, y_train, y_test = train_test_split(X, y, test_size=0.2,\n",
    "                                                    stratify=y)"
   ],
   "id": "b68611590b0449fa",
   "outputs": [],
   "execution_count": 17
  },
  {
   "cell_type": "code",
   "id": "initial_id",
   "metadata": {
    "collapsed": true,
    "ExecuteTime": {
     "end_time": "2025-06-30T02:40:05.524102Z",
     "start_time": "2025-06-30T02:40:05.132519Z"
    }
   },
   "source": [
    "model = XGBClassifier(\n",
    "    eval_metric=\"logloss\",\n",
    "    tree_method=\"hist\",\n",
    "    enable_categorical=True\n",
    ")\n",
    "\n",
    "model.fit(X_train, y_train)"
   ],
   "outputs": [
    {
     "ename": "ValueError",
     "evalue": "DataFrame.dtypes for data must be int, float, bool or category. When categorical type is supplied, the experimental DMatrix parameter`enable_categorical` must be set to `True`.  Invalid columns:PassengerId: object, HomePlanet: category, Destination: category, Cabin_deck: category, Cabin_side: category",
     "output_type": "error",
     "traceback": [
      "\u001B[31m---------------------------------------------------------------------------\u001B[39m",
      "\u001B[31mValueError\u001B[39m                                Traceback (most recent call last)",
      "\u001B[36mCell\u001B[39m\u001B[36m \u001B[39m\u001B[32mIn[18]\u001B[39m\u001B[32m, line 7\u001B[39m\n\u001B[32m      1\u001B[39m model = XGBClassifier(\n\u001B[32m      2\u001B[39m     eval_metric=\u001B[33m\"\u001B[39m\u001B[33mlogloss\u001B[39m\u001B[33m\"\u001B[39m,\n\u001B[32m      3\u001B[39m     tree_method=\u001B[33m\"\u001B[39m\u001B[33mhist\u001B[39m\u001B[33m\"\u001B[39m,\n\u001B[32m      4\u001B[39m     enable_categorical=\u001B[38;5;28;01mTrue\u001B[39;00m\n\u001B[32m      5\u001B[39m )\n\u001B[32m----> \u001B[39m\u001B[32m7\u001B[39m \u001B[43mmodel\u001B[49m\u001B[43m.\u001B[49m\u001B[43mfit\u001B[49m\u001B[43m(\u001B[49m\u001B[43mX_train\u001B[49m\u001B[43m,\u001B[49m\u001B[43m \u001B[49m\u001B[43my_train\u001B[49m\u001B[43m)\u001B[49m\n",
      "\u001B[36mFile \u001B[39m\u001B[32m~\\PycharmProjects\\kaggle-projects\\.venv\\Lib\\site-packages\\xgboost\\core.py:726\u001B[39m, in \u001B[36mrequire_keyword_args.<locals>.throw_if.<locals>.inner_f\u001B[39m\u001B[34m(*args, **kwargs)\u001B[39m\n\u001B[32m    724\u001B[39m \u001B[38;5;28;01mfor\u001B[39;00m k, arg \u001B[38;5;129;01min\u001B[39;00m \u001B[38;5;28mzip\u001B[39m(sig.parameters, args):\n\u001B[32m    725\u001B[39m     kwargs[k] = arg\n\u001B[32m--> \u001B[39m\u001B[32m726\u001B[39m \u001B[38;5;28;01mreturn\u001B[39;00m \u001B[43mfunc\u001B[49m\u001B[43m(\u001B[49m\u001B[43m*\u001B[49m\u001B[43m*\u001B[49m\u001B[43mkwargs\u001B[49m\u001B[43m)\u001B[49m\n",
      "\u001B[36mFile \u001B[39m\u001B[32m~\\PycharmProjects\\kaggle-projects\\.venv\\Lib\\site-packages\\xgboost\\sklearn.py:1580\u001B[39m, in \u001B[36mXGBClassifier.fit\u001B[39m\u001B[34m(self, X, y, sample_weight, base_margin, eval_set, verbose, xgb_model, sample_weight_eval_set, base_margin_eval_set, feature_weights)\u001B[39m\n\u001B[32m   1577\u001B[39m     params[\u001B[33m\"\u001B[39m\u001B[33mnum_class\u001B[39m\u001B[33m\"\u001B[39m] = \u001B[38;5;28mself\u001B[39m.n_classes_\n\u001B[32m   1579\u001B[39m model, metric, params = \u001B[38;5;28mself\u001B[39m._configure_fit(xgb_model, params)\n\u001B[32m-> \u001B[39m\u001B[32m1580\u001B[39m train_dmatrix, evals = \u001B[43m_wrap_evaluation_matrices\u001B[49m\u001B[43m(\u001B[49m\n\u001B[32m   1581\u001B[39m \u001B[43m    \u001B[49m\u001B[43mmissing\u001B[49m\u001B[43m=\u001B[49m\u001B[38;5;28;43mself\u001B[39;49m\u001B[43m.\u001B[49m\u001B[43mmissing\u001B[49m\u001B[43m,\u001B[49m\n\u001B[32m   1582\u001B[39m \u001B[43m    \u001B[49m\u001B[43mX\u001B[49m\u001B[43m=\u001B[49m\u001B[43mX\u001B[49m\u001B[43m,\u001B[49m\n\u001B[32m   1583\u001B[39m \u001B[43m    \u001B[49m\u001B[43my\u001B[49m\u001B[43m=\u001B[49m\u001B[43my\u001B[49m\u001B[43m,\u001B[49m\n\u001B[32m   1584\u001B[39m \u001B[43m    \u001B[49m\u001B[43mgroup\u001B[49m\u001B[43m=\u001B[49m\u001B[38;5;28;43;01mNone\u001B[39;49;00m\u001B[43m,\u001B[49m\n\u001B[32m   1585\u001B[39m \u001B[43m    \u001B[49m\u001B[43mqid\u001B[49m\u001B[43m=\u001B[49m\u001B[38;5;28;43;01mNone\u001B[39;49;00m\u001B[43m,\u001B[49m\n\u001B[32m   1586\u001B[39m \u001B[43m    \u001B[49m\u001B[43msample_weight\u001B[49m\u001B[43m=\u001B[49m\u001B[43msample_weight\u001B[49m\u001B[43m,\u001B[49m\n\u001B[32m   1587\u001B[39m \u001B[43m    \u001B[49m\u001B[43mbase_margin\u001B[49m\u001B[43m=\u001B[49m\u001B[43mbase_margin\u001B[49m\u001B[43m,\u001B[49m\n\u001B[32m   1588\u001B[39m \u001B[43m    \u001B[49m\u001B[43mfeature_weights\u001B[49m\u001B[43m=\u001B[49m\u001B[43mfeature_weights\u001B[49m\u001B[43m,\u001B[49m\n\u001B[32m   1589\u001B[39m \u001B[43m    \u001B[49m\u001B[43meval_set\u001B[49m\u001B[43m=\u001B[49m\u001B[43meval_set\u001B[49m\u001B[43m,\u001B[49m\n\u001B[32m   1590\u001B[39m \u001B[43m    \u001B[49m\u001B[43msample_weight_eval_set\u001B[49m\u001B[43m=\u001B[49m\u001B[43msample_weight_eval_set\u001B[49m\u001B[43m,\u001B[49m\n\u001B[32m   1591\u001B[39m \u001B[43m    \u001B[49m\u001B[43mbase_margin_eval_set\u001B[49m\u001B[43m=\u001B[49m\u001B[43mbase_margin_eval_set\u001B[49m\u001B[43m,\u001B[49m\n\u001B[32m   1592\u001B[39m \u001B[43m    \u001B[49m\u001B[43meval_group\u001B[49m\u001B[43m=\u001B[49m\u001B[38;5;28;43;01mNone\u001B[39;49;00m\u001B[43m,\u001B[49m\n\u001B[32m   1593\u001B[39m \u001B[43m    \u001B[49m\u001B[43meval_qid\u001B[49m\u001B[43m=\u001B[49m\u001B[38;5;28;43;01mNone\u001B[39;49;00m\u001B[43m,\u001B[49m\n\u001B[32m   1594\u001B[39m \u001B[43m    \u001B[49m\u001B[43mcreate_dmatrix\u001B[49m\u001B[43m=\u001B[49m\u001B[38;5;28;43mself\u001B[39;49m\u001B[43m.\u001B[49m\u001B[43m_create_dmatrix\u001B[49m\u001B[43m,\u001B[49m\n\u001B[32m   1595\u001B[39m \u001B[43m    \u001B[49m\u001B[43menable_categorical\u001B[49m\u001B[43m=\u001B[49m\u001B[38;5;28;43mself\u001B[39;49m\u001B[43m.\u001B[49m\u001B[43menable_categorical\u001B[49m\u001B[43m,\u001B[49m\n\u001B[32m   1596\u001B[39m \u001B[43m    \u001B[49m\u001B[43mfeature_types\u001B[49m\u001B[43m=\u001B[49m\u001B[38;5;28;43mself\u001B[39;49m\u001B[43m.\u001B[49m\u001B[43mfeature_types\u001B[49m\u001B[43m,\u001B[49m\n\u001B[32m   1597\u001B[39m \u001B[43m\u001B[49m\u001B[43m)\u001B[49m\n\u001B[32m   1599\u001B[39m \u001B[38;5;28mself\u001B[39m._Booster = train(\n\u001B[32m   1600\u001B[39m     params,\n\u001B[32m   1601\u001B[39m     train_dmatrix,\n\u001B[32m   (...)\u001B[39m\u001B[32m   1610\u001B[39m     callbacks=\u001B[38;5;28mself\u001B[39m.callbacks,\n\u001B[32m   1611\u001B[39m )\n\u001B[32m   1613\u001B[39m \u001B[38;5;28;01mif\u001B[39;00m \u001B[38;5;129;01mnot\u001B[39;00m \u001B[38;5;28mcallable\u001B[39m(\u001B[38;5;28mself\u001B[39m.objective):\n",
      "\u001B[36mFile \u001B[39m\u001B[32m~\\PycharmProjects\\kaggle-projects\\.venv\\Lib\\site-packages\\xgboost\\sklearn.py:603\u001B[39m, in \u001B[36m_wrap_evaluation_matrices\u001B[39m\u001B[34m(missing, X, y, group, qid, sample_weight, base_margin, feature_weights, eval_set, sample_weight_eval_set, base_margin_eval_set, eval_group, eval_qid, create_dmatrix, enable_categorical, feature_types)\u001B[39m\n\u001B[32m    583\u001B[39m \u001B[38;5;28;01mdef\u001B[39;00m\u001B[38;5;250m \u001B[39m\u001B[34m_wrap_evaluation_matrices\u001B[39m(\n\u001B[32m    584\u001B[39m     missing: \u001B[38;5;28mfloat\u001B[39m,\n\u001B[32m    585\u001B[39m     X: Any,\n\u001B[32m   (...)\u001B[39m\u001B[32m    599\u001B[39m     feature_types: Optional[FeatureTypes],\n\u001B[32m    600\u001B[39m ) -> Tuple[Any, List[Tuple[Any, \u001B[38;5;28mstr\u001B[39m]]]:\n\u001B[32m    601\u001B[39m \u001B[38;5;250m    \u001B[39m\u001B[33;03m\"\"\"Convert array_like evaluation matrices into DMatrix.  Perform validation on the\u001B[39;00m\n\u001B[32m    602\u001B[39m \u001B[33;03m    way.\"\"\"\u001B[39;00m\n\u001B[32m--> \u001B[39m\u001B[32m603\u001B[39m     train_dmatrix = \u001B[43mcreate_dmatrix\u001B[49m\u001B[43m(\u001B[49m\n\u001B[32m    604\u001B[39m \u001B[43m        \u001B[49m\u001B[43mdata\u001B[49m\u001B[43m=\u001B[49m\u001B[43mX\u001B[49m\u001B[43m,\u001B[49m\n\u001B[32m    605\u001B[39m \u001B[43m        \u001B[49m\u001B[43mlabel\u001B[49m\u001B[43m=\u001B[49m\u001B[43my\u001B[49m\u001B[43m,\u001B[49m\n\u001B[32m    606\u001B[39m \u001B[43m        \u001B[49m\u001B[43mgroup\u001B[49m\u001B[43m=\u001B[49m\u001B[43mgroup\u001B[49m\u001B[43m,\u001B[49m\n\u001B[32m    607\u001B[39m \u001B[43m        \u001B[49m\u001B[43mqid\u001B[49m\u001B[43m=\u001B[49m\u001B[43mqid\u001B[49m\u001B[43m,\u001B[49m\n\u001B[32m    608\u001B[39m \u001B[43m        \u001B[49m\u001B[43mweight\u001B[49m\u001B[43m=\u001B[49m\u001B[43msample_weight\u001B[49m\u001B[43m,\u001B[49m\n\u001B[32m    609\u001B[39m \u001B[43m        \u001B[49m\u001B[43mbase_margin\u001B[49m\u001B[43m=\u001B[49m\u001B[43mbase_margin\u001B[49m\u001B[43m,\u001B[49m\n\u001B[32m    610\u001B[39m \u001B[43m        \u001B[49m\u001B[43mfeature_weights\u001B[49m\u001B[43m=\u001B[49m\u001B[43mfeature_weights\u001B[49m\u001B[43m,\u001B[49m\n\u001B[32m    611\u001B[39m \u001B[43m        \u001B[49m\u001B[43mmissing\u001B[49m\u001B[43m=\u001B[49m\u001B[43mmissing\u001B[49m\u001B[43m,\u001B[49m\n\u001B[32m    612\u001B[39m \u001B[43m        \u001B[49m\u001B[43menable_categorical\u001B[49m\u001B[43m=\u001B[49m\u001B[43menable_categorical\u001B[49m\u001B[43m,\u001B[49m\n\u001B[32m    613\u001B[39m \u001B[43m        \u001B[49m\u001B[43mfeature_types\u001B[49m\u001B[43m=\u001B[49m\u001B[43mfeature_types\u001B[49m\u001B[43m,\u001B[49m\n\u001B[32m    614\u001B[39m \u001B[43m        \u001B[49m\u001B[43mref\u001B[49m\u001B[43m=\u001B[49m\u001B[38;5;28;43;01mNone\u001B[39;49;00m\u001B[43m,\u001B[49m\n\u001B[32m    615\u001B[39m \u001B[43m    \u001B[49m\u001B[43m)\u001B[49m\n\u001B[32m    617\u001B[39m     n_validation = \u001B[32m0\u001B[39m \u001B[38;5;28;01mif\u001B[39;00m eval_set \u001B[38;5;129;01mis\u001B[39;00m \u001B[38;5;28;01mNone\u001B[39;00m \u001B[38;5;28;01melse\u001B[39;00m \u001B[38;5;28mlen\u001B[39m(eval_set)\n\u001B[32m    619\u001B[39m     \u001B[38;5;28;01mdef\u001B[39;00m\u001B[38;5;250m \u001B[39m\u001B[34mvalidate_or_none\u001B[39m(meta: Optional[Sequence], name: \u001B[38;5;28mstr\u001B[39m) -> Sequence:\n",
      "\u001B[36mFile \u001B[39m\u001B[32m~\\PycharmProjects\\kaggle-projects\\.venv\\Lib\\site-packages\\xgboost\\sklearn.py:1065\u001B[39m, in \u001B[36mXGBModel._create_dmatrix\u001B[39m\u001B[34m(self, ref, **kwargs)\u001B[39m\n\u001B[32m   1063\u001B[39m \u001B[38;5;28;01mif\u001B[39;00m _can_use_qdm(\u001B[38;5;28mself\u001B[39m.tree_method) \u001B[38;5;129;01mand\u001B[39;00m \u001B[38;5;28mself\u001B[39m.booster != \u001B[33m\"\u001B[39m\u001B[33mgblinear\u001B[39m\u001B[33m\"\u001B[39m:\n\u001B[32m   1064\u001B[39m     \u001B[38;5;28;01mtry\u001B[39;00m:\n\u001B[32m-> \u001B[39m\u001B[32m1065\u001B[39m         \u001B[38;5;28;01mreturn\u001B[39;00m \u001B[43mQuantileDMatrix\u001B[49m\u001B[43m(\u001B[49m\n\u001B[32m   1066\u001B[39m \u001B[43m            \u001B[49m\u001B[43m*\u001B[49m\u001B[43m*\u001B[49m\u001B[43mkwargs\u001B[49m\u001B[43m,\u001B[49m\u001B[43m \u001B[49m\u001B[43mref\u001B[49m\u001B[43m=\u001B[49m\u001B[43mref\u001B[49m\u001B[43m,\u001B[49m\u001B[43m \u001B[49m\u001B[43mnthread\u001B[49m\u001B[43m=\u001B[49m\u001B[38;5;28;43mself\u001B[39;49m\u001B[43m.\u001B[49m\u001B[43mn_jobs\u001B[49m\u001B[43m,\u001B[49m\u001B[43m \u001B[49m\u001B[43mmax_bin\u001B[49m\u001B[43m=\u001B[49m\u001B[38;5;28;43mself\u001B[39;49m\u001B[43m.\u001B[49m\u001B[43mmax_bin\u001B[49m\n\u001B[32m   1067\u001B[39m \u001B[43m        \u001B[49m\u001B[43m)\u001B[49m\n\u001B[32m   1068\u001B[39m     \u001B[38;5;28;01mexcept\u001B[39;00m \u001B[38;5;167;01mTypeError\u001B[39;00m:  \u001B[38;5;66;03m# `QuantileDMatrix` supports lesser types than DMatrix\u001B[39;00m\n\u001B[32m   1069\u001B[39m         \u001B[38;5;28;01mpass\u001B[39;00m\n",
      "\u001B[36mFile \u001B[39m\u001B[32m~\\PycharmProjects\\kaggle-projects\\.venv\\Lib\\site-packages\\xgboost\\core.py:726\u001B[39m, in \u001B[36mrequire_keyword_args.<locals>.throw_if.<locals>.inner_f\u001B[39m\u001B[34m(*args, **kwargs)\u001B[39m\n\u001B[32m    724\u001B[39m \u001B[38;5;28;01mfor\u001B[39;00m k, arg \u001B[38;5;129;01min\u001B[39;00m \u001B[38;5;28mzip\u001B[39m(sig.parameters, args):\n\u001B[32m    725\u001B[39m     kwargs[k] = arg\n\u001B[32m--> \u001B[39m\u001B[32m726\u001B[39m \u001B[38;5;28;01mreturn\u001B[39;00m \u001B[43mfunc\u001B[49m\u001B[43m(\u001B[49m\u001B[43m*\u001B[49m\u001B[43m*\u001B[49m\u001B[43mkwargs\u001B[49m\u001B[43m)\u001B[49m\n",
      "\u001B[36mFile \u001B[39m\u001B[32m~\\PycharmProjects\\kaggle-projects\\.venv\\Lib\\site-packages\\xgboost\\core.py:1573\u001B[39m, in \u001B[36mQuantileDMatrix.__init__\u001B[39m\u001B[34m(self, data, label, weight, base_margin, missing, silent, feature_names, feature_types, nthread, max_bin, ref, group, qid, label_lower_bound, label_upper_bound, feature_weights, enable_categorical, data_split_mode)\u001B[39m\n\u001B[32m   1553\u001B[39m     \u001B[38;5;28;01mif\u001B[39;00m \u001B[38;5;28many\u001B[39m(\n\u001B[32m   1554\u001B[39m         info \u001B[38;5;129;01mis\u001B[39;00m \u001B[38;5;129;01mnot\u001B[39;00m \u001B[38;5;28;01mNone\u001B[39;00m\n\u001B[32m   1555\u001B[39m         \u001B[38;5;28;01mfor\u001B[39;00m info \u001B[38;5;129;01min\u001B[39;00m (\n\u001B[32m   (...)\u001B[39m\u001B[32m   1566\u001B[39m         )\n\u001B[32m   1567\u001B[39m     ):\n\u001B[32m   1568\u001B[39m         \u001B[38;5;28;01mraise\u001B[39;00m \u001B[38;5;167;01mValueError\u001B[39;00m(\n\u001B[32m   1569\u001B[39m             \u001B[33m\"\u001B[39m\u001B[33mIf data iterator is used as input, data like label should be \u001B[39m\u001B[33m\"\u001B[39m\n\u001B[32m   1570\u001B[39m             \u001B[33m\"\u001B[39m\u001B[33mspecified as batch argument.\u001B[39m\u001B[33m\"\u001B[39m\n\u001B[32m   1571\u001B[39m         )\n\u001B[32m-> \u001B[39m\u001B[32m1573\u001B[39m \u001B[38;5;28;43mself\u001B[39;49m\u001B[43m.\u001B[49m\u001B[43m_init\u001B[49m\u001B[43m(\u001B[49m\n\u001B[32m   1574\u001B[39m \u001B[43m    \u001B[49m\u001B[43mdata\u001B[49m\u001B[43m,\u001B[49m\n\u001B[32m   1575\u001B[39m \u001B[43m    \u001B[49m\u001B[43mref\u001B[49m\u001B[43m=\u001B[49m\u001B[43mref\u001B[49m\u001B[43m,\u001B[49m\n\u001B[32m   1576\u001B[39m \u001B[43m    \u001B[49m\u001B[43mlabel\u001B[49m\u001B[43m=\u001B[49m\u001B[43mlabel\u001B[49m\u001B[43m,\u001B[49m\n\u001B[32m   1577\u001B[39m \u001B[43m    \u001B[49m\u001B[43mweight\u001B[49m\u001B[43m=\u001B[49m\u001B[43mweight\u001B[49m\u001B[43m,\u001B[49m\n\u001B[32m   1578\u001B[39m \u001B[43m    \u001B[49m\u001B[43mbase_margin\u001B[49m\u001B[43m=\u001B[49m\u001B[43mbase_margin\u001B[49m\u001B[43m,\u001B[49m\n\u001B[32m   1579\u001B[39m \u001B[43m    \u001B[49m\u001B[43mgroup\u001B[49m\u001B[43m=\u001B[49m\u001B[43mgroup\u001B[49m\u001B[43m,\u001B[49m\n\u001B[32m   1580\u001B[39m \u001B[43m    \u001B[49m\u001B[43mqid\u001B[49m\u001B[43m=\u001B[49m\u001B[43mqid\u001B[49m\u001B[43m,\u001B[49m\n\u001B[32m   1581\u001B[39m \u001B[43m    \u001B[49m\u001B[43mlabel_lower_bound\u001B[49m\u001B[43m=\u001B[49m\u001B[43mlabel_lower_bound\u001B[49m\u001B[43m,\u001B[49m\n\u001B[32m   1582\u001B[39m \u001B[43m    \u001B[49m\u001B[43mlabel_upper_bound\u001B[49m\u001B[43m=\u001B[49m\u001B[43mlabel_upper_bound\u001B[49m\u001B[43m,\u001B[49m\n\u001B[32m   1583\u001B[39m \u001B[43m    \u001B[49m\u001B[43mfeature_weights\u001B[49m\u001B[43m=\u001B[49m\u001B[43mfeature_weights\u001B[49m\u001B[43m,\u001B[49m\n\u001B[32m   1584\u001B[39m \u001B[43m    \u001B[49m\u001B[43mfeature_names\u001B[49m\u001B[43m=\u001B[49m\u001B[43mfeature_names\u001B[49m\u001B[43m,\u001B[49m\n\u001B[32m   1585\u001B[39m \u001B[43m    \u001B[49m\u001B[43mfeature_types\u001B[49m\u001B[43m=\u001B[49m\u001B[43mfeature_types\u001B[49m\u001B[43m,\u001B[49m\n\u001B[32m   1586\u001B[39m \u001B[43m    \u001B[49m\u001B[43menable_categorical\u001B[49m\u001B[43m=\u001B[49m\u001B[43menable_categorical\u001B[49m\u001B[43m,\u001B[49m\n\u001B[32m   1587\u001B[39m \u001B[43m\u001B[49m\u001B[43m)\u001B[49m\n",
      "\u001B[36mFile \u001B[39m\u001B[32m~\\PycharmProjects\\kaggle-projects\\.venv\\Lib\\site-packages\\xgboost\\core.py:1632\u001B[39m, in \u001B[36mQuantileDMatrix._init\u001B[39m\u001B[34m(self, data, ref, enable_categorical, **meta)\u001B[39m\n\u001B[32m   1620\u001B[39m config = make_jcargs(\n\u001B[32m   1621\u001B[39m     nthread=\u001B[38;5;28mself\u001B[39m.nthread, missing=\u001B[38;5;28mself\u001B[39m.missing, max_bin=\u001B[38;5;28mself\u001B[39m.max_bin\n\u001B[32m   1622\u001B[39m )\n\u001B[32m   1623\u001B[39m ret = _LIB.XGQuantileDMatrixCreateFromCallback(\n\u001B[32m   1624\u001B[39m     \u001B[38;5;28;01mNone\u001B[39;00m,\n\u001B[32m   1625\u001B[39m     it.proxy.handle,\n\u001B[32m   (...)\u001B[39m\u001B[32m   1630\u001B[39m     ctypes.byref(handle),\n\u001B[32m   1631\u001B[39m )\n\u001B[32m-> \u001B[39m\u001B[32m1632\u001B[39m \u001B[43mit\u001B[49m\u001B[43m.\u001B[49m\u001B[43mreraise\u001B[49m\u001B[43m(\u001B[49m\u001B[43m)\u001B[49m\n\u001B[32m   1633\u001B[39m \u001B[38;5;66;03m# delay check_call to throw intermediate exception first\u001B[39;00m\n\u001B[32m   1634\u001B[39m _check_call(ret)\n",
      "\u001B[36mFile \u001B[39m\u001B[32m~\\PycharmProjects\\kaggle-projects\\.venv\\Lib\\site-packages\\xgboost\\core.py:569\u001B[39m, in \u001B[36mDataIter.reraise\u001B[39m\u001B[34m(self)\u001B[39m\n\u001B[32m    567\u001B[39m exc = \u001B[38;5;28mself\u001B[39m._exception\n\u001B[32m    568\u001B[39m \u001B[38;5;28mself\u001B[39m._exception = \u001B[38;5;28;01mNone\u001B[39;00m\n\u001B[32m--> \u001B[39m\u001B[32m569\u001B[39m \u001B[38;5;28;01mraise\u001B[39;00m exc\n",
      "\u001B[36mFile \u001B[39m\u001B[32m~\\PycharmProjects\\kaggle-projects\\.venv\\Lib\\site-packages\\xgboost\\core.py:550\u001B[39m, in \u001B[36mDataIter._handle_exception\u001B[39m\u001B[34m(self, fn, dft_ret)\u001B[39m\n\u001B[32m    547\u001B[39m     \u001B[38;5;28;01mreturn\u001B[39;00m dft_ret\n\u001B[32m    549\u001B[39m \u001B[38;5;28;01mtry\u001B[39;00m:\n\u001B[32m--> \u001B[39m\u001B[32m550\u001B[39m     \u001B[38;5;28;01mreturn\u001B[39;00m \u001B[43mfn\u001B[49m\u001B[43m(\u001B[49m\u001B[43m)\u001B[49m\n\u001B[32m    551\u001B[39m \u001B[38;5;28;01mexcept\u001B[39;00m \u001B[38;5;167;01mException\u001B[39;00m \u001B[38;5;28;01mas\u001B[39;00m e:  \u001B[38;5;66;03m# pylint: disable=broad-except\u001B[39;00m\n\u001B[32m    552\u001B[39m     \u001B[38;5;66;03m# Defer the exception in order to return 0 and stop the iteration.\u001B[39;00m\n\u001B[32m    553\u001B[39m     \u001B[38;5;66;03m# Exception inside a ctype callback function has no effect except\u001B[39;00m\n\u001B[32m    554\u001B[39m     \u001B[38;5;66;03m# for printing to stderr (doesn't stop the execution).\u001B[39;00m\n\u001B[32m    555\u001B[39m     tb = sys.exc_info()[\u001B[32m2\u001B[39m]\n",
      "\u001B[36mFile \u001B[39m\u001B[32m~\\PycharmProjects\\kaggle-projects\\.venv\\Lib\\site-packages\\xgboost\\core.py:637\u001B[39m, in \u001B[36mDataIter._next_wrapper.<locals>.<lambda>\u001B[39m\u001B[34m()\u001B[39m\n\u001B[32m    635\u001B[39m     \u001B[38;5;28mself\u001B[39m._temporary_data = \u001B[38;5;28;01mNone\u001B[39;00m\n\u001B[32m    636\u001B[39m \u001B[38;5;66;03m# pylint: disable=not-callable\u001B[39;00m\n\u001B[32m--> \u001B[39m\u001B[32m637\u001B[39m \u001B[38;5;28;01mreturn\u001B[39;00m \u001B[38;5;28mself\u001B[39m._handle_exception(\u001B[38;5;28;01mlambda\u001B[39;00m: \u001B[38;5;28;43mself\u001B[39;49m\u001B[43m.\u001B[49m\u001B[43mnext\u001B[49m\u001B[43m(\u001B[49m\u001B[43minput_data\u001B[49m\u001B[43m)\u001B[49m, \u001B[32m0\u001B[39m)\n",
      "\u001B[36mFile \u001B[39m\u001B[32m~\\PycharmProjects\\kaggle-projects\\.venv\\Lib\\site-packages\\xgboost\\data.py:1402\u001B[39m, in \u001B[36mSingleBatchInternalIter.next\u001B[39m\u001B[34m(self, input_data)\u001B[39m\n\u001B[32m   1400\u001B[39m     \u001B[38;5;28;01mreturn\u001B[39;00m \u001B[32m0\u001B[39m\n\u001B[32m   1401\u001B[39m \u001B[38;5;28mself\u001B[39m.it += \u001B[32m1\u001B[39m\n\u001B[32m-> \u001B[39m\u001B[32m1402\u001B[39m \u001B[43minput_data\u001B[49m\u001B[43m(\u001B[49m\u001B[43m*\u001B[49m\u001B[43m*\u001B[49m\u001B[38;5;28;43mself\u001B[39;49m\u001B[43m.\u001B[49m\u001B[43mkwargs\u001B[49m\u001B[43m)\u001B[49m\n\u001B[32m   1403\u001B[39m \u001B[38;5;28;01mreturn\u001B[39;00m \u001B[32m1\u001B[39m\n",
      "\u001B[36mFile \u001B[39m\u001B[32m~\\PycharmProjects\\kaggle-projects\\.venv\\Lib\\site-packages\\xgboost\\core.py:726\u001B[39m, in \u001B[36mrequire_keyword_args.<locals>.throw_if.<locals>.inner_f\u001B[39m\u001B[34m(*args, **kwargs)\u001B[39m\n\u001B[32m    724\u001B[39m \u001B[38;5;28;01mfor\u001B[39;00m k, arg \u001B[38;5;129;01min\u001B[39;00m \u001B[38;5;28mzip\u001B[39m(sig.parameters, args):\n\u001B[32m    725\u001B[39m     kwargs[k] = arg\n\u001B[32m--> \u001B[39m\u001B[32m726\u001B[39m \u001B[38;5;28;01mreturn\u001B[39;00m \u001B[43mfunc\u001B[49m\u001B[43m(\u001B[49m\u001B[43m*\u001B[49m\u001B[43m*\u001B[49m\u001B[43mkwargs\u001B[49m\u001B[43m)\u001B[49m\n",
      "\u001B[36mFile \u001B[39m\u001B[32m~\\PycharmProjects\\kaggle-projects\\.venv\\Lib\\site-packages\\xgboost\\core.py:617\u001B[39m, in \u001B[36mDataIter._next_wrapper.<locals>.input_data\u001B[39m\u001B[34m(data, feature_names, feature_types, **kwargs)\u001B[39m\n\u001B[32m    615\u001B[39m     new, cat_codes, feature_names, feature_types = \u001B[38;5;28mself\u001B[39m._temporary_data\n\u001B[32m    616\u001B[39m \u001B[38;5;28;01melse\u001B[39;00m:\n\u001B[32m--> \u001B[39m\u001B[32m617\u001B[39m     new, cat_codes, feature_names, feature_types = \u001B[43m_proxy_transform\u001B[49m\u001B[43m(\u001B[49m\n\u001B[32m    618\u001B[39m \u001B[43m        \u001B[49m\u001B[43mdata\u001B[49m\u001B[43m,\u001B[49m\n\u001B[32m    619\u001B[39m \u001B[43m        \u001B[49m\u001B[43mfeature_names\u001B[49m\u001B[43m,\u001B[49m\n\u001B[32m    620\u001B[39m \u001B[43m        \u001B[49m\u001B[43mfeature_types\u001B[49m\u001B[43m,\u001B[49m\n\u001B[32m    621\u001B[39m \u001B[43m        \u001B[49m\u001B[38;5;28;43mself\u001B[39;49m\u001B[43m.\u001B[49m\u001B[43m_enable_categorical\u001B[49m\u001B[43m,\u001B[49m\n\u001B[32m    622\u001B[39m \u001B[43m    \u001B[49m\u001B[43m)\u001B[49m\n\u001B[32m    623\u001B[39m \u001B[38;5;66;03m# Stage the data, meta info are copied inside C++ MetaInfo.\u001B[39;00m\n\u001B[32m    624\u001B[39m \u001B[38;5;28mself\u001B[39m._temporary_data = (new, cat_codes, feature_names, feature_types)\n",
      "\u001B[36mFile \u001B[39m\u001B[32m~\\PycharmProjects\\kaggle-projects\\.venv\\Lib\\site-packages\\xgboost\\data.py:1447\u001B[39m, in \u001B[36m_proxy_transform\u001B[39m\u001B[34m(data, feature_names, feature_types, enable_categorical)\u001B[39m\n\u001B[32m   1445\u001B[39m     data = _arrow_transform(data)\n\u001B[32m   1446\u001B[39m \u001B[38;5;28;01mif\u001B[39;00m _is_pandas_df(data):\n\u001B[32m-> \u001B[39m\u001B[32m1447\u001B[39m     df, feature_names, feature_types = \u001B[43m_transform_pandas_df\u001B[49m\u001B[43m(\u001B[49m\n\u001B[32m   1448\u001B[39m \u001B[43m        \u001B[49m\u001B[43mdata\u001B[49m\u001B[43m,\u001B[49m\u001B[43m \u001B[49m\u001B[43menable_categorical\u001B[49m\u001B[43m,\u001B[49m\u001B[43m \u001B[49m\u001B[43mfeature_names\u001B[49m\u001B[43m,\u001B[49m\u001B[43m \u001B[49m\u001B[43mfeature_types\u001B[49m\n\u001B[32m   1449\u001B[39m \u001B[43m    \u001B[49m\u001B[43m)\u001B[49m\n\u001B[32m   1450\u001B[39m     \u001B[38;5;28;01mreturn\u001B[39;00m df, \u001B[38;5;28;01mNone\u001B[39;00m, feature_names, feature_types\n\u001B[32m   1451\u001B[39m \u001B[38;5;28;01mraise\u001B[39;00m \u001B[38;5;167;01mTypeError\u001B[39;00m(\u001B[33m\"\u001B[39m\u001B[33mValue type is not supported for data iterator:\u001B[39m\u001B[33m\"\u001B[39m + \u001B[38;5;28mstr\u001B[39m(\u001B[38;5;28mtype\u001B[39m(data)))\n",
      "\u001B[36mFile \u001B[39m\u001B[32m~\\PycharmProjects\\kaggle-projects\\.venv\\Lib\\site-packages\\xgboost\\data.py:603\u001B[39m, in \u001B[36m_transform_pandas_df\u001B[39m\u001B[34m(data, enable_categorical, feature_names, feature_types, meta)\u001B[39m\n\u001B[32m    596\u001B[39m \u001B[38;5;28;01mdef\u001B[39;00m\u001B[38;5;250m \u001B[39m\u001B[34m_transform_pandas_df\u001B[39m(\n\u001B[32m    597\u001B[39m     data: DataFrame,\n\u001B[32m    598\u001B[39m     enable_categorical: \u001B[38;5;28mbool\u001B[39m,\n\u001B[32m   (...)\u001B[39m\u001B[32m    601\u001B[39m     meta: Optional[\u001B[38;5;28mstr\u001B[39m] = \u001B[38;5;28;01mNone\u001B[39;00m,\n\u001B[32m    602\u001B[39m ) -> Tuple[PandasTransformed, Optional[FeatureNames], Optional[FeatureTypes]]:\n\u001B[32m--> \u001B[39m\u001B[32m603\u001B[39m     \u001B[43mpandas_check_dtypes\u001B[49m\u001B[43m(\u001B[49m\u001B[43mdata\u001B[49m\u001B[43m,\u001B[49m\u001B[43m \u001B[49m\u001B[43menable_categorical\u001B[49m\u001B[43m)\u001B[49m\n\u001B[32m    604\u001B[39m     \u001B[38;5;28;01mif\u001B[39;00m meta \u001B[38;5;129;01mand\u001B[39;00m \u001B[38;5;28mlen\u001B[39m(data.columns) > \u001B[32m1\u001B[39m \u001B[38;5;129;01mand\u001B[39;00m meta \u001B[38;5;129;01mnot\u001B[39;00m \u001B[38;5;129;01min\u001B[39;00m _matrix_meta:\n\u001B[32m    605\u001B[39m         \u001B[38;5;28;01mraise\u001B[39;00m \u001B[38;5;167;01mValueError\u001B[39;00m(\u001B[33mf\u001B[39m\u001B[33m\"\u001B[39m\u001B[33mDataFrame for \u001B[39m\u001B[38;5;132;01m{\u001B[39;00mmeta\u001B[38;5;132;01m}\u001B[39;00m\u001B[33m cannot have multiple columns\u001B[39m\u001B[33m\"\u001B[39m)\n",
      "\u001B[36mFile \u001B[39m\u001B[32m~\\PycharmProjects\\kaggle-projects\\.venv\\Lib\\site-packages\\xgboost\\data.py:569\u001B[39m, in \u001B[36mpandas_check_dtypes\u001B[39m\u001B[34m(data, enable_categorical)\u001B[39m\n\u001B[32m    562\u001B[39m \u001B[38;5;28;01mfor\u001B[39;00m dtype \u001B[38;5;129;01min\u001B[39;00m data.dtypes:\n\u001B[32m    563\u001B[39m     \u001B[38;5;28;01mif\u001B[39;00m \u001B[38;5;129;01mnot\u001B[39;00m (\n\u001B[32m    564\u001B[39m         (dtype.name \u001B[38;5;129;01min\u001B[39;00m _pandas_dtype_mapper)\n\u001B[32m    565\u001B[39m         \u001B[38;5;129;01mor\u001B[39;00m is_pd_sparse_dtype(dtype)\n\u001B[32m    566\u001B[39m         \u001B[38;5;129;01mor\u001B[39;00m (is_pd_cat_dtype(dtype) \u001B[38;5;129;01mand\u001B[39;00m enable_categorical)\n\u001B[32m    567\u001B[39m         \u001B[38;5;129;01mor\u001B[39;00m is_pa_ext_dtype(dtype)\n\u001B[32m    568\u001B[39m     ):\n\u001B[32m--> \u001B[39m\u001B[32m569\u001B[39m         \u001B[43m_invalid_dataframe_dtype\u001B[49m\u001B[43m(\u001B[49m\u001B[43mdata\u001B[49m\u001B[43m)\u001B[49m\n\u001B[32m    571\u001B[39m     \u001B[38;5;28;01mif\u001B[39;00m is_pd_sparse_dtype(dtype):\n\u001B[32m    572\u001B[39m         sparse_extension = \u001B[38;5;28;01mTrue\u001B[39;00m\n",
      "\u001B[36mFile \u001B[39m\u001B[32m~\\PycharmProjects\\kaggle-projects\\.venv\\Lib\\site-packages\\xgboost\\data.py:356\u001B[39m, in \u001B[36m_invalid_dataframe_dtype\u001B[39m\u001B[34m(data)\u001B[39m\n\u001B[32m    354\u001B[39m type_err = \u001B[33m\"\u001B[39m\u001B[33mDataFrame.dtypes for data must be int, float, bool or category.\u001B[39m\u001B[33m\"\u001B[39m\n\u001B[32m    355\u001B[39m msg = \u001B[33mf\u001B[39m\u001B[33m\"\"\"\u001B[39m\u001B[38;5;132;01m{\u001B[39;00mtype_err\u001B[38;5;132;01m}\u001B[39;00m\u001B[33m \u001B[39m\u001B[38;5;132;01m{\u001B[39;00m_ENABLE_CAT_ERR\u001B[38;5;132;01m}\u001B[39;00m\u001B[33m \u001B[39m\u001B[38;5;132;01m{\u001B[39;00merr\u001B[38;5;132;01m}\u001B[39;00m\u001B[33m\"\"\"\u001B[39m\n\u001B[32m--> \u001B[39m\u001B[32m356\u001B[39m \u001B[38;5;28;01mraise\u001B[39;00m \u001B[38;5;167;01mValueError\u001B[39;00m(msg)\n",
      "\u001B[31mValueError\u001B[39m: DataFrame.dtypes for data must be int, float, bool or category. When categorical type is supplied, the experimental DMatrix parameter`enable_categorical` must be set to `True`.  Invalid columns:PassengerId: object, HomePlanet: category, Destination: category, Cabin_deck: category, Cabin_side: category"
     ]
    }
   ],
   "execution_count": 18
  },
  {
   "metadata": {
    "ExecuteTime": {
     "end_time": "2025-06-30T02:40:05.528107300Z",
     "start_time": "2025-06-30T02:33:59.502700Z"
    }
   },
   "cell_type": "code",
   "source": [
    "y_pred = model.predict(X_test)\n",
    "\n",
    "print(\"Accuracy:\", accuracy_score(y_test, y_pred))\n",
    "print(classification_report(y_test, y_pred))"
   ],
   "id": "46bf2b66d0cdbcf1",
   "outputs": [
    {
     "name": "stdout",
     "output_type": "stream",
     "text": [
      "Accuracy: 0.8027602070155262\n",
      "              precision    recall  f1-score   support\n",
      "\n",
      "       False       0.79      0.83      0.81       863\n",
      "        True       0.82      0.78      0.80       876\n",
      "\n",
      "    accuracy                           0.80      1739\n",
      "   macro avg       0.80      0.80      0.80      1739\n",
      "weighted avg       0.80      0.80      0.80      1739\n",
      "\n"
     ]
    }
   ],
   "execution_count": 5
  },
  {
   "metadata": {
    "ExecuteTime": {
     "end_time": "2025-06-30T02:40:05.529108Z",
     "start_time": "2025-06-30T02:33:59.549444Z"
    }
   },
   "cell_type": "code",
   "source": [
    "plot_importance(model)\n",
    "plt.show()"
   ],
   "id": "d86a643f53ecae26",
   "outputs": [
    {
     "data": {
      "text/plain": [
       "<Figure size 640x480 with 1 Axes>"
      ],
      "image/png": "[encoded data removed]"
     },
     "metadata": {},
     "output_type": "display_data"
    }
   ],
   "execution_count": 6
  },
  {
   "metadata": {
    "ExecuteTime": {
     "end_time": "2025-06-30T02:40:05.529108Z",
     "start_time": "2025-06-30T02:33:59.683962Z"
    }
   },
   "cell_type": "code",
   "source": [
    "params = {\n",
    "    'max_depth': [3, 5, 7],\n",
    "    'learning_rate': [0.01, 0.1],\n",
    "    'n_estimators': [100, 300],\n",
    "    'subsample': [0.8, 1.0],\n",
    "    'colsample_bytree': [0.8, 1.0]\n",
    "}\n",
    "\n",
    "grid = GridSearchCV(\n",
    "    XGBClassifier(tree_method=\"hist\", enable_categorical=True, eval_metric=\"logloss\"),\n",
    "    param_grid=params,\n",
    "    scoring=\"accuracy\",\n",
    "    cv=3,\n",
    "    verbose=1\n",
    ")\n",
    "grid.fit(X_train, y_train)\n",
    "print(\"Best Params:\", grid.best_params_)"
   ],
   "id": "5009d9c70bcfc370",
   "outputs": [
    {
     "name": "stdout",
     "output_type": "stream",
     "text": [
      "Fitting 3 folds for each of 48 candidates, totalling 144 fits\n",
      "Best Params: {'colsample_bytree': 1.0, 'learning_rate': 0.1, 'max_depth': 5, 'n_estimators': 100, 'subsample': 1.0}\n"
     ]
    }
   ],
   "execution_count": 7
  },
  {
   "metadata": {
    "ExecuteTime": {
     "end_time": "2025-06-30T02:40:05.530107500Z",
     "start_time": "2025-06-30T02:34:38.598967Z"
    }
   },
   "cell_type": "code",
   "source": [
    "best_model = grid.best_estimator_\n",
    "joblib.dump(best_model, \"../../models/XGB-spaceship-titanic.pkl\")"
   ],
   "id": "a392fa54ee50010d",
   "outputs": [
    {
     "data": {
      "text/plain": [
       "['../../models/XGB-spaceship-titanic.pkl']"
      ]
     },
     "execution_count": 8,
     "metadata": {},
     "output_type": "execute_result"
    }
   ],
   "execution_count": 8
  },
  {
   "metadata": {
    "ExecuteTime": {
     "end_time": "2025-06-30T02:40:05.530107500Z",
     "start_time": "2025-06-30T02:34:38.739548Z"
    }
   },
   "cell_type": "code",
   "source": "model = joblib.load(\"../../models/XGB-spaceship-titanic.pkl\")",
   "id": "f51c397e6e016a85",
   "outputs": [],
   "execution_count": 9
  },
  {
   "metadata": {
    "ExecuteTime": {
     "end_time": "2025-06-30T02:40:05.531107600Z",
     "start_time": "2025-06-30T02:39:01.417230Z"
    }
   },
   "cell_type": "code",
   "source": [
    "test_df = pd.read_parquet(\"data/spaceship-titanic-test.parquet\")\n",
    "test_df.head()"
   ],
   "id": "d7aeeab59a7605c1",
   "outputs": [
    {
     "data": {
      "text/plain": [
       "  PassengerId HomePlanet  CryoSleep  Destination   Age    VIP  RoomService  \\\n",
       "0     0013_01      Earth       True  TRAPPIST-1e  27.0  False          0.0   \n",
       "1     0018_01      Earth      False  TRAPPIST-1e  19.0  False          0.0   \n",
       "2     0019_01     Europa       True  55 Cancri e  31.0  False          0.0   \n",
       "3     0021_01     Europa      False  TRAPPIST-1e  38.0  False          0.0   \n",
       "4     0023_01      Earth      False  TRAPPIST-1e  20.0  False         10.0   \n",
       "\n",
       "   FoodCourt  ShoppingMall     Spa  VRDeck Cabin_deck  Cabin_num Cabin_side  \n",
       "0        0.0           0.0     0.0     0.0          G        3.0          S  \n",
       "1        9.0           0.0  2823.0     0.0          F        4.0          S  \n",
       "2        0.0           0.0     0.0     0.0          C        0.0          S  \n",
       "3     6652.0           0.0   181.0   585.0          C        1.0          S  \n",
       "4        0.0         635.0     0.0     0.0          F        5.0          S  "
      ],
      "text/html": [
       "<div>\n",
       "<style scoped>\n",
       "    .dataframe tbody tr th:only-of-type {\n",
       "        vertical-align: middle;\n",
       "    }\n",
       "\n",
       "    .dataframe tbody tr th {\n",
       "        vertical-align: top;\n",
       "    }\n",
       "\n",
       "    .dataframe thead th {\n",
       "        text-align: right;\n",
       "    }\n",
       "</style>\n",
       "<table border=\"1\" class=\"dataframe\">\n",
       "  <thead>\n",
       "    <tr style=\"text-align: right;\">\n",
       "      <th></th>\n",
       "      <th>PassengerId</th>\n",
       "      <th>HomePlanet</th>\n",
       "      <th>CryoSleep</th>\n",
       "      <th>Destination</th>\n",
       "      <th>Age</th>\n",
       "      <th>VIP</th>\n",
       "      <th>RoomService</th>\n",
       "      <th>FoodCourt</th>\n",
       "      <th>ShoppingMall</th>\n",
       "      <th>Spa</th>\n",
       "      <th>VRDeck</th>\n",
       "      <th>Cabin_deck</th>\n",
       "      <th>Cabin_num</th>\n",
       "      <th>Cabin_side</th>\n",
       "    </tr>\n",
       "  </thead>\n",
       "  <tbody>\n",
       "    <tr>\n",
       "      <th>0</th>\n",
       "      <td>0013_01</td>\n",
       "      <td>Earth</td>\n",
       "      <td>True</td>\n",
       "      <td>TRAPPIST-1e</td>\n",
       "      <td>27.0</td>\n",
       "      <td>False</td>\n",
       "      <td>0.0</td>\n",
       "      <td>0.0</td>\n",
       "      <td>0.0</td>\n",
       "      <td>0.0</td>\n",
       "      <td>0.0</td>\n",
       "      <td>G</td>\n",
       "      <td>3.0</td>\n",
       "      <td>S</td>\n",
       "    </tr>\n",
       "    <tr>\n",
       "      <th>1</th>\n",
       "      <td>0018_01</td>\n",
       "      <td>Earth</td>\n",
       "      <td>False</td>\n",
       "      <td>TRAPPIST-1e</td>\n",
       "      <td>19.0</td>\n",
       "      <td>False</td>\n",
       "      <td>0.0</td>\n",
       "      <td>9.0</td>\n",
       "      <td>0.0</td>\n",
       "      <td>2823.0</td>\n",
       "      <td>0.0</td>\n",
       "      <td>F</td>\n",
       "      <td>4.0</td>\n",
       "      <td>S</td>\n",
       "    </tr>\n",
       "    <tr>\n",
       "      <th>2</th>\n",
       "      <td>0019_01</td>\n",
       "      <td>Europa</td>\n",
       "      <td>True</td>\n",
       "      <td>55 Cancri e</td>\n",
       "      <td>31.0</td>\n",
       "      <td>False</td>\n",
       "      <td>0.0</td>\n",
       "      <td>0.0</td>\n",
       "      <td>0.0</td>\n",
       "      <td>0.0</td>\n",
       "      <td>0.0</td>\n",
       "      <td>C</td>\n",
       "      <td>0.0</td>\n",
       "      <td>S</td>\n",
       "    </tr>\n",
       "    <tr>\n",
       "      <th>3</th>\n",
       "      <td>0021_01</td>\n",
       "      <td>Europa</td>\n",
       "      <td>False</td>\n",
       "      <td>TRAPPIST-1e</td>\n",
       "      <td>38.0</td>\n",
       "      <td>False</td>\n",
       "      <td>0.0</td>\n",
       "      <td>6652.0</td>\n",
       "      <td>0.0</td>\n",
       "      <td>181.0</td>\n",
       "      <td>585.0</td>\n",
       "      <td>C</td>\n",
       "      <td>1.0</td>\n",
       "      <td>S</td>\n",
       "    </tr>\n",
       "    <tr>\n",
       "      <th>4</th>\n",
       "      <td>0023_01</td>\n",
       "      <td>Earth</td>\n",
       "      <td>False</td>\n",
       "      <td>TRAPPIST-1e</td>\n",
       "      <td>20.0</td>\n",
       "      <td>False</td>\n",
       "      <td>10.0</td>\n",
       "      <td>0.0</td>\n",
       "      <td>635.0</td>\n",
       "      <td>0.0</td>\n",
       "      <td>0.0</td>\n",
       "      <td>F</td>\n",
       "      <td>5.0</td>\n",
       "      <td>S</td>\n",
       "    </tr>\n",
       "  </tbody>\n",
       "</table>\n",
       "</div>"
      ]
     },
     "execution_count": 12,
     "metadata": {},
     "output_type": "execute_result"
    }
   ],
   "execution_count": 12
  },
  {
   "metadata": {
    "ExecuteTime": {
     "end_time": "2025-06-30T02:40:05.532106800Z",
     "start_time": "2025-06-30T02:39:27.485151Z"
    }
   },
   "cell_type": "code",
   "source": [
    "passenger_ids = test_df[\"PassengerId\"]\n",
    "X_test_final = test_df.drop(\"PassengerId\", axis=1)\n",
    "y_test_pred = model.predict(X_test_final)\n",
    "\n",
    "submission_df = pd.DataFrame({\n",
    "    \"PassengerId\": passenger_ids,\n",
    "    \"Transported\": y_test_pred.astype(bool)\n",
    "})\n",
    "\n",
    "submission_df.to_csv(\"data/submission.csv\", index=False)\n",
    "\n",
    "submission_df.head()"
   ],
   "id": "78bd7974906b6d34",
   "outputs": [
    {
     "data": {
      "text/plain": [
       "  PassengerId  Transported\n",
       "0     0013_01         True\n",
       "1     0018_01        False\n",
       "2     0019_01         True\n",
       "3     0021_01         True\n",
       "4     0023_01         True"
      ],
      "text/html": [
       "<div>\n",
       "<style scoped>\n",
       "    .dataframe tbody tr th:only-of-type {\n",
       "        vertical-align: middle;\n",
       "    }\n",
       "\n",
       "    .dataframe tbody tr th {\n",
       "        vertical-align: top;\n",
       "    }\n",
       "\n",
       "    .dataframe thead th {\n",
       "        text-align: right;\n",
       "    }\n",
       "</style>\n",
       "<table border=\"1\" class=\"dataframe\">\n",
       "  <thead>\n",
       "    <tr style=\"text-align: right;\">\n",
       "      <th></th>\n",
       "      <th>PassengerId</th>\n",
       "      <th>Transported</th>\n",
       "    </tr>\n",
       "  </thead>\n",
       "  <tbody>\n",
       "    <tr>\n",
       "      <th>0</th>\n",
       "      <td>0013_01</td>\n",
       "      <td>True</td>\n",
       "    </tr>\n",
       "    <tr>\n",
       "      <th>1</th>\n",
       "      <td>0018_01</td>\n",
       "      <td>False</td>\n",
       "    </tr>\n",
       "    <tr>\n",
       "      <th>2</th>\n",
       "      <td>0019_01</td>\n",
       "      <td>True</td>\n",
       "    </tr>\n",
       "    <tr>\n",
       "      <th>3</th>\n",
       "      <td>0021_01</td>\n",
       "      <td>True</td>\n",
       "    </tr>\n",
       "    <tr>\n",
       "      <th>4</th>\n",
       "      <td>0023_01</td>\n",
       "      <td>True</td>\n",
       "    </tr>\n",
       "  </tbody>\n",
       "</table>\n",
       "</div>"
      ]
     },
     "execution_count": 14,
     "metadata": {},
     "output_type": "execute_result"
    }
   ],
   "execution_count": 14
  }
 ],
 "metadata": {
  "kernelspec": {
   "display_name": "Python 3",
   "language": "python",
   "name": "python3"
  },
  "language_info": {
   "codemirror_mode": {
    "name": "ipython",
    "version": 2
   },
   "file_extension": ".py",
   "mimetype": "text/x-python",
   "name": "python",
   "nbconvert_exporter": "python",
   "pygments_lexer": "ipython2",
   "version": "2.7.6"
  }
 },
 "nbformat": 4,
 "nbformat_minor": 5
}
