{
 "cells": [
  {
   "cell_type": "code",
   "id": "initial_id",
   "metadata": {
    "collapsed": true
   },
   "source": [
    "import pandas as pd\n",
    "import torch\n",
    "import torch.nn as nn\n",
    "import numpy as np\n",
    "import tomllib\n",
    "from pathlib import Path\n",
    "from pandas import DataFrame\n",
    "from common.utils import load_dataset, optimize_memory\n",
    "import plotly.express as px\n",
    "import matplotlib.pyplot as plt\n",
    "from sklearn.model_selection import train_test_split\n",
    "from sklearn.impute import KNNImputer, SimpleImputer\n",
    "from sklearn.compose import ColumnTransformer\n",
    "from sklearn.metrics import accuracy_score, classification_report, confusion_matrix\n",
    "import seaborn as sns\n",
    "import joblib\n",
    "import os\n",
    "import xgboost as xgb"
   ],
   "outputs": [],
   "execution_count": null
  },
  {
   "metadata": {},
   "cell_type": "markdown",
   "source": "## Exploratory Data Analysis",
   "id": "ce2fc909ed629b64"
  },
  {
   "metadata": {},
   "cell_type": "code",
   "source": "color = sns.color_palette()",
   "id": "34df61ad2b4a0121",
   "outputs": [],
   "execution_count": null
  },
  {
   "metadata": {},
   "cell_type": "markdown",
   "source": "#### Training dataframe overview",
   "id": "76d34e045b724d5a"
  },
  {
   "metadata": {},
   "cell_type": "code",
   "source": [
    "train_df: DataFrame = load_dataset(\"loan-approval-prediction-clone\", index=False)\n",
    "train_df.head()"
   ],
   "id": "e3c7573b037dba69",
   "outputs": [],
   "execution_count": null
  },
  {
   "metadata": {},
   "cell_type": "code",
   "source": "train_df.info()",
   "id": "8c8f77b633d0fe46",
   "outputs": [],
   "execution_count": null
  },
  {
   "metadata": {},
   "cell_type": "code",
   "source": "train_df.describe()",
   "id": "3fcd282f1bc00877",
   "outputs": [],
   "execution_count": null
  },
  {
   "metadata": {},
   "cell_type": "code",
   "source": "train_df.dtypes",
   "id": "d354be58ba516ce",
   "outputs": [],
   "execution_count": null
  },
  {
   "metadata": {},
   "cell_type": "code",
   "source": "optimize_memory(train_df, deep=True)",
   "id": "2b928fd6ae3b577f",
   "outputs": [],
   "execution_count": null
  },
  {
   "metadata": {},
   "cell_type": "code",
   "source": "train_df.dtypes",
   "id": "c11a02536a14a240",
   "outputs": [],
   "execution_count": null
  },
  {
   "metadata": {},
   "cell_type": "code",
   "source": "sns.countplot(train_df['person_home_ownership'])",
   "id": "8dda0533446a1e38",
   "outputs": [],
   "execution_count": null
  },
  {
   "metadata": {},
   "cell_type": "code",
   "source": "sns.countplot(train_df['loan_intent'])",
   "id": "9e1f3a98079973c7",
   "outputs": [],
   "execution_count": null
  },
  {
   "metadata": {},
   "cell_type": "code",
   "source": "sns.countplot(train_df['loan_grade'])",
   "id": "6782e2d5d040d0b8",
   "outputs": [],
   "execution_count": null
  },
  {
   "metadata": {},
   "cell_type": "code",
   "source": "sns.countplot(train_df['cb_person_default_on_file'])",
   "id": "8c800536d804349d",
   "outputs": [],
   "execution_count": null
  },
  {
   "metadata": {},
   "cell_type": "code",
   "source": [
    "categorical_cols = ['person_home_ownership', 'loan_intent', 'loan_grade',\n",
    "                    'cb_person_default_on_file']\n",
    "\n",
    "train_df = pd.get_dummies(train_df,\n",
    "                          columns=categorical_cols,\n",
    "                          drop_first=True)\n",
    "\n",
    "train_df.columns = [col.lower() for col in train_df.columns]\n",
    "\n",
    "train_df.head()"
   ],
   "id": "e4f7d13de238b642",
   "outputs": [],
   "execution_count": null
  },
  {
   "metadata": {},
   "cell_type": "code",
   "source": [
    "sns.histplot(train_df['person_age'], kde=True)\n",
    "plt.xticks(rotation='vertical')\n",
    "plt.xlabel('Person Age', fontsize=12)\n",
    "plt.ylabel('Number of Occurrences', fontsize=12)\n",
    "plt.show()"
   ],
   "id": "5ce71250bb509847",
   "outputs": [],
   "execution_count": null
  },
  {
   "metadata": {},
   "cell_type": "code",
   "source": [
    "sns.histplot(train_df['person_income'], kde=True)\n",
    "plt.xticks(rotation='vertical')\n",
    "plt.xlabel('Person Income', fontsize=12)\n",
    "plt.ylabel('Number of Occurrences', fontsize=12)\n",
    "plt.show()"
   ],
   "id": "93c3e1ac2f7c3607",
   "outputs": [],
   "execution_count": null
  },
  {
   "metadata": {},
   "cell_type": "code",
   "source": [
    "sns.histplot(train_df['person_emp_length'], kde=True)\n",
    "plt.xticks(rotation='vertical')\n",
    "plt.xlabel('Person Employment length', fontsize=12)\n",
    "plt.ylabel('Number of Occurrences', fontsize=12)\n",
    "plt.show()"
   ],
   "id": "2400050e2447ea48",
   "outputs": [],
   "execution_count": null
  },
  {
   "metadata": {},
   "cell_type": "code",
   "source": [
    "sns.histplot(train_df['loan_amnt'], kde=True)\n",
    "plt.xticks(rotation='vertical')\n",
    "plt.xlabel('Person Employment length', fontsize=12)\n",
    "plt.ylabel('Number of Occurrences', fontsize=12)\n",
    "plt.show()"
   ],
   "id": "5813d1660729637a",
   "outputs": [],
   "execution_count": null
  },
  {
   "metadata": {},
   "cell_type": "code",
   "source": [
    "sns.histplot(train_df['loan_int_rate'], kde=True)\n",
    "plt.xticks(rotation='vertical')\n",
    "plt.xlabel('Person Income', fontsize=12)\n",
    "plt.ylabel('Number of Occurrences', fontsize=12)\n",
    "plt.show()"
   ],
   "id": "845a983a04fc4b85",
   "outputs": [],
   "execution_count": null
  },
  {
   "metadata": {},
   "cell_type": "code",
   "source": [
    "sns.histplot(train_df['loan_percent_income'], kde=True)\n",
    "plt.xticks(rotation='vertical')\n",
    "plt.xlabel('Person Income', fontsize=12)\n",
    "plt.ylabel('Number of Occurrences', fontsize=12)\n",
    "plt.show()"
   ],
   "id": "853b8c849bbc737",
   "outputs": [],
   "execution_count": null
  },
  {
   "metadata": {},
   "cell_type": "code",
   "source": [
    "sns.histplot(train_df['cb_person_cred_hist_length'], kde=True)\n",
    "plt.xticks(rotation='vertical')\n",
    "plt.xlabel('Person Income', fontsize=12)\n",
    "plt.ylabel('Number of Occurrences', fontsize=12)\n",
    "plt.show()"
   ],
   "id": "b83fc1c539288e2a",
   "outputs": [],
   "execution_count": null
  },
  {
   "metadata": {},
   "cell_type": "code",
   "source": [
    "sns.histplot(train_df['loan_status'], kde=True)\n",
    "plt.xticks(rotation='vertical')\n",
    "plt.xlabel('Person Income', fontsize=12)\n",
    "plt.ylabel('Number of Occurrences', fontsize=12)\n",
    "plt.show()"
   ],
   "id": "a77af842b0adfb14",
   "outputs": [],
   "execution_count": null
  },
  {
   "metadata": {},
   "cell_type": "code",
   "source": "np.random.seed(42)",
   "id": "ec88bc669603fe09",
   "outputs": [],
   "execution_count": null
  },
  {
   "metadata": {},
   "cell_type": "code",
   "source": [
    "print(train_df.isnull().sum())\n",
    "\n",
    "train_df = train_df.bfill()\n",
    "\n",
    "X = train_df.drop(columns=['loan_status']) \n",
    "y = train_df['loan_status']\n",
    "\n",
    "X = pd.get_dummies(X)  \n",
    "X.head()"
   ],
   "id": "5b55afcfa0768543",
   "outputs": [],
   "execution_count": null
  },
  {
   "metadata": {},
   "cell_type": "code",
   "source": "y.head()",
   "id": "b404344e9f3be59e",
   "outputs": [],
   "execution_count": null
  },
  {
   "metadata": {},
   "cell_type": "code",
   "source": "X_train, X_test, y_train, y_test = train_test_split(X, y, test_size=0.2, random_state=42)",
   "id": "11957d791fe0025d",
   "outputs": [],
   "execution_count": null
  },
  {
   "metadata": {},
   "cell_type": "code",
   "source": [
    "# Convert to XGBoost DMatrix\n",
    "dtrain = xgb.DMatrix(X_train, label=y_train)\n",
    "dtest = xgb.DMatrix(X_test, label=y_test)\n",
    "\n",
    "# Define XGBoost parameters\n",
    "params = {\n",
    "    'objective': 'binary:logistic',   # Binary classification\n",
    "    'eval_metric': 'logloss',         # Logarithmic loss\n",
    "    'max_depth': 6,                   # Maximum tree depth\n",
    "    'eta': 0.5,                       # Learning rate\n",
    "    'subsample': 0.8,                 # Row sampling\n",
    "    'colsample_bytree': 0.8,          # Feature sampling\n",
    "    'seed': 42\n",
    "}\n",
    "\n",
    "# Train the model\n",
    "num_rounds = 100\n",
    "bst = xgb.train(params, dtrain, num_rounds)"
   ],
   "id": "a8ddce460a7c22d9",
   "outputs": [],
   "execution_count": null
  },
  {
   "metadata": {},
   "cell_type": "code",
   "source": [
    "# Predict probabilities\n",
    "y_pred_prob = bst.predict(dtest)\n",
    "\n",
    "# Convert probabilities to binary labels\n",
    "y_pred = (y_pred_prob > 0.5).astype(int)\n",
    "\n",
    "# Evaluate accuracy\n",
    "accuracy = accuracy_score(y_test, y_pred)\n",
    "print(f'Accuracy: {accuracy:.4f}')"
   ],
   "id": "8172a47e27242f9f",
   "outputs": [],
   "execution_count": null
  },
  {
   "metadata": {},
   "cell_type": "code",
   "source": [
    "# Save the trained model using joblib\n",
    "joblib.dump(bst, \"models/xgb_binary_model.pkl\")\n",
    "print(\"Model saved as xgb_binary_model.pkl\")\n",
    "\n",
    "# Load the model later\n",
    "loaded_model = joblib.load(\"xgb_binary_model.pkl\")\n",
    "print(\"Model loaded successfully\")\n",
    "\n",
    "# Predict with the loaded model\n",
    "y_pred_prob = loaded_model.predict(dtest)\n",
    "\n",
    "# Convert probabilities to binary labels\n",
    "y_pred = (y_pred_prob > 0.5).astype(int)\n",
    "\n",
    "# Evaluate accuracy\n",
    "\n",
    "accuracy = accuracy_score(y_test, y_pred)\n",
    "print(f'Accuracy after loading: {accuracy:.4f}')"
   ],
   "id": "e2361edf4b0648d1",
   "outputs": [],
   "execution_count": null
  },
  {
   "metadata": {},
   "cell_type": "code",
   "source": [
    "test_df: DataFrame = load_dataset(\"loan-approval-prediction-clone\", index=False)\n",
    "test_df.head()"
   ],
   "id": "f4f23785b130b281",
   "outputs": [],
   "execution_count": null
  }
 ],
 "metadata": {
  "kernelspec": {
   "display_name": "Python 3",
   "language": "python",
   "name": "python3"
  },
  "language_info": {
   "codemirror_mode": {
    "name": "ipython",
    "version": 2
   },
   "file_extension": ".py",
   "mimetype": "text/x-python",
   "name": "python",
   "nbconvert_exporter": "python",
   "pygments_lexer": "ipython2",
   "version": "2.7.6"
  }
 },
 "nbformat": 4,
 "nbformat_minor": 5
}
