{
 "cells": [
  {
   "cell_type": "code",
   "execution_count": null,
   "id": "06bb6ae3",
   "metadata": {},
   "outputs": [],
   "source": [
    "import timm\n",
    "import torch\n",
    "import torch.nn as nn\n",
    "from PIL import Image\n",
    "import numpy as np\n",
    "from timm.data import resolve_model_data_config, create_transform\n",
    "import random\n",
    "import os\n",
    "import pandas as pd\n",
    "from sklearn.preprocessing import LabelEncoder\n",
    "from sklearn.model_selection import train_test_split\n",
    "from common.datasets import LandmarkDataset"
   ]
  },
  {
   "cell_type": "markdown",
   "id": "5259e073",
   "metadata": {},
   "source": [
    "##### Environment variables"
   ]
  },
  {
   "cell_type": "code",
   "execution_count": null,
   "id": "69bf7b29",
   "metadata": {},
   "outputs": [],
   "source": [
    "DEVICE = \"cuda\" if torch.cuda.is_available() else \"cpu\"\n",
    "DATASET_PATH = \"D:/Datasets/landmark-recognition-2021\"\n",
    "TRAIN_DIR = f\"{DATASET_PATH}/train\"\n",
    "TEST_DIR = f\"{DATASET_PATH}/test\""
   ]
  },
  {
   "cell_type": "markdown",
   "id": "ba747168",
   "metadata": {},
   "source": [
    "##### Hyperparameters"
   ]
  },
  {
   "cell_type": "code",
   "execution_count": null,
   "id": "3a76ee5d",
   "metadata": {},
   "outputs": [],
   "source": [
    "SEED = 42\n",
    "EPOCHS = 1\n",
    "BATCH_SIZE = 64\n",
    "N_WORKERS = 6"
   ]
  },
  {
   "cell_type": "markdown",
   "id": "cc9ec305",
   "metadata": {},
   "source": [
    "##### Training IDs table"
   ]
  },
  {
   "cell_type": "code",
   "execution_count": null,
   "id": "3a40f11a",
   "metadata": {},
   "outputs": [],
   "source": [
    "train_df = pd.read_csv(f\"{DATASET_PATH}/train.csv\")\n",
    "train_df.head()"
   ]
  },
  {
   "cell_type": "markdown",
   "id": "eca7c871",
   "metadata": {},
   "source": [
    "##### Seeding"
   ]
  },
  {
   "cell_type": "code",
   "execution_count": null,
   "id": "a7209481",
   "metadata": {},
   "outputs": [],
   "source": [
    "def seed_everything(seed):\n",
    "    random.seed(seed)\n",
    "    os.environ[\"PYTHONHASHSEED\"] = str(seed)\n",
    "    np.random.seed(seed)\n",
    "    torch.manual_seed(seed)\n",
    "\n",
    "    if torch.cuda.is_available():\n",
    "        torch.cuda.manual_seed(seed)\n",
    "        torch.backends.cudnn.benchmark = False\n",
    "\n",
    "\n",
    "seed_everything(SEED)"
   ]
  },
  {
   "cell_type": "markdown",
   "id": "0506fa83",
   "metadata": {},
   "source": [
    "##### Training/Test datasets"
   ]
  },
  {
   "cell_type": "code",
   "execution_count": null,
   "id": "8d159394",
   "metadata": {},
   "outputs": [],
   "source": [
    "labels = dict(zip(train_df[\"id\"], train_df[\"landmark_id\"]))\n",
    "\n",
    "train_ids, test_ids = train_test_split(\n",
    "    train_df[\"id\"].tolist(),\n",
    "    test_size=0.2,\n",
    "    random_state=SEED,\n",
    "    stratify=train_df[\"landmark_id\"],\n",
    ")\n",
    "\n",
    "partition = {\"train\": train_ids, \"test\": test_ids}\n",
    "print(f\"Training IDs:{len(partition['train'])}\\nTest IDs:{len(partition['test'])}\")\n",
    "print(f\"Total IDs/labels: {len(labels)}\")"
   ]
  },
  {
   "cell_type": "code",
   "execution_count": null,
   "id": "cabf2fde",
   "metadata": {},
   "outputs": [],
   "source": [
    "params = {\"batch_size\": BATCH_SIZE, \"shuffle\": True, \"num_workers\": N_WORKERS}\n",
    "\n",
    "model = timm.create_model(\"efficientnetv2_m\", pretrained=False)\n",
    "model_config = timm.data.resolve_model_data_config(model)\n",
    "transform = timm.data.create_transform(**model_config)\n",
    "\n",
    "train_set = LandmarkDataset(partition[\"train\"], labels, directory=TRAIN_DIR, transform=transform)\n",
    "train_loader = torch.utils.data.DataLoader(train_set, **params)\n",
    "\n",
    "test_set = LandmarkDataset(partition[\"test\"], labels, directory=TEST_DIR, transform=transform)\n",
    "test_loader = torch.utils.data.DataLoader(test_set, **params)\n",
    "\n",
    "len(train_set), len(test_set)"
   ]
  },
  {
   "cell_type": "markdown",
   "id": "5b63a617",
   "metadata": {},
   "source": [
    "##### Training loop"
   ]
  },
  {
   "cell_type": "code",
   "execution_count": null,
   "id": "8209c1fd",
   "metadata": {},
   "outputs": [],
   "source": [
    "for epoch in range(EPOCHS):\n",
    "    for local_batch, local_labels in train_loader:\n",
    "        local_batch, local_labels = local_batch.to(DEVICE), local_labels.to(DEVICE)\n",
    "\n",
    "    with torch.set_grad_enabled(False):\n",
    "        for local_batch, local_labels in test_loader:\n",
    "            local_batch, local_labels = local_batch.to(DEVICE), local_labels.to(DEVICE)"
   ]
  }
 ],
 "metadata": {
  "kernelspec": {
   "display_name": ".venv",
   "language": "python",
   "name": "python3"
  },
  "language_info": {
   "codemirror_mode": {
    "name": "ipython",
    "version": 3
   },
   "file_extension": ".py",
   "mimetype": "text/x-python",
   "name": "python",
   "nbconvert_exporter": "python",
   "pygments_lexer": "ipython3",
   "version": "3.11.9"
  }
 },
 "nbformat": 4,
 "nbformat_minor": 5
}
