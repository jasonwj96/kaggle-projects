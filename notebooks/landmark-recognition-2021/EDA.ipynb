{
 "cells": [
  {
   "cell_type": "code",
   "execution_count": null,
   "id": "06bb6ae3",
   "metadata": {},
   "outputs": [],
   "source": [
    "import timm\n",
    "import torch\n",
    "import torch.nn as nn\n",
    "from PIL import Image\n",
    "import numpy as np\n",
    "from timm.data import resolve_model_data_config, create_transform\n",
    "import random\n",
    "import os\n",
    "import pandas as pd\n",
    "from sklearn.preprocessing import LabelEncoder"
   ]
  },
  {
   "cell_type": "code",
   "execution_count": null,
   "id": "3a76ee5d",
   "metadata": {},
   "outputs": [],
   "source": [
    "DATASET_PATH = \"D:/Datasets/landmark-recognition-2021\"\n",
    "\n",
    "train_df = pd.read_csv(f\"{DATASET_PATH}/train.csv\")\n",
    "train_df.head()"
   ]
  },
  {
   "cell_type": "code",
   "execution_count": null,
   "id": "8d159394",
   "metadata": {},
   "outputs": [],
   "source": [
    "DEVICE = \"cuda\" if torch.cuda.is_available() else \"cpu\"\n",
    "\n",
    "N_CLASSES = train_df[\"label_enc\"].value_counts().sort_index()\n",
    "CLASS_WEIGHTS = 1.0 / N_CLASSES\n",
    "CLASS_WEIGHTS = torch.tensor(CLASS_WEIGHTS.values).float().to(DEVICE)\n",
    "criterion = nn.CrossEntropyLoss(weight=CLASS_WEIGHTS)"
   ]
  },
  {
   "cell_type": "code",
   "execution_count": null,
   "id": "a7209481",
   "metadata": {},
   "outputs": [],
   "source": [
    "def seed_everything(seed):\n",
    "    random.seed(seed)\n",
    "    os.environ[\"PYTHONHASHSEED\"] = str(seed)\n",
    "    np.random.seed(seed)\n",
    "    torch.manual_seed(seed)\n",
    "\n",
    "    if DEVICE == \"cuda\":\n",
    "        torch.cuda.manual_seed(seed)\n",
    "        torch.backends.cudnn.benchmark = False\n",
    "\n",
    "\n",
    "seed_everything(42)"
   ]
  },
  {
   "cell_type": "code",
   "execution_count": null,
   "id": "c45e077a",
   "metadata": {},
   "outputs": [],
   "source": [
    "model = timm.create_model(\"efficientnetv2_m\")\n",
    "config = resolve_model_data_config(model)\n",
    "transform = create_transform(**config)\n",
    "model.default_cfg"
   ]
  },
  {
   "cell_type": "code",
   "execution_count": null,
   "id": "eaa6f9c9",
   "metadata": {},
   "outputs": [],
   "source": [
    "image_path = f\"{DATASET_PATH}/train/0/0/0/000a5cf3f3346229.jpg\"\n",
    "im = Image.open(image_path).convert(\"RGB\")\n",
    "im"
   ]
  },
  {
   "cell_type": "code",
   "execution_count": null,
   "id": "cf85ce4e",
   "metadata": {},
   "outputs": [],
   "source": [
    "tensor = transform(im)"
   ]
  },
  {
   "cell_type": "code",
   "execution_count": null,
   "id": "ee330136",
   "metadata": {},
   "outputs": [],
   "source": []
  },
  {
   "cell_type": "code",
   "execution_count": null,
   "id": "fb7d77d2",
   "metadata": {},
   "outputs": [],
   "source": []
  }
 ],
 "metadata": {
  "kernelspec": {
   "display_name": ".venv",
   "language": "python",
   "name": "python3"
  },
  "language_info": {
   "codemirror_mode": {
    "name": "ipython",
    "version": 3
   },
   "file_extension": ".py",
   "mimetype": "text/x-python",
   "name": "python",
   "nbconvert_exporter": "python",
   "pygments_lexer": "ipython3",
   "version": "3.11.9"
  }
 },
 "nbformat": 4,
 "nbformat_minor": 5
}
