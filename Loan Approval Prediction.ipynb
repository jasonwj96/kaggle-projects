{
 "cells": [
  {
   "cell_type": "code",
   "id": "initial_id",
   "metadata": {
    "collapsed": true,
    "ExecuteTime": {
     "end_time": "2025-02-13T08:48:15.633991Z",
     "start_time": "2025-02-13T08:48:15.631197Z"
    }
   },
   "source": [
    "import pandas as pd\n",
    "import torch\n",
    "import torch.nn as nn\n",
    "import numpy as np\n",
    "import tomllib\n",
    "from pathlib import Path\n",
    "from pandas import DataFrame\n",
    "from common.utils import load_dataset, reduce_mem_usage\n",
    "import plotly.express as px\n",
    "import matplotlib.pyplot as plt\n",
    "from sklearn.linear_model import LinearRegression\n",
    "from sklearn.model_selection import train_test_split\n",
    "from sklearn.impute import KNNImputer, SimpleImputer\n",
    "from sklearn.preprocessing import LabelEncoder, OneHotEncoder\n",
    "from sklearn.compose import ColumnTransformer\n",
    "import seaborn as sns"
   ],
   "outputs": [],
   "execution_count": 95
  },
  {
   "metadata": {},
   "cell_type": "markdown",
   "source": "### Exploratory Data Analysis",
   "id": "ce2fc909ed629b64"
  },
  {
   "metadata": {
    "ExecuteTime": {
     "end_time": "2025-02-13T08:48:15.641204Z",
     "start_time": "2025-02-13T08:48:15.634996Z"
    }
   },
   "cell_type": "code",
   "source": "color = sns.color_palette()",
   "id": "34df61ad2b4a0121",
   "outputs": [],
   "execution_count": 96
  },
  {
   "metadata": {
    "ExecuteTime": {
     "end_time": "2025-02-13T08:48:15.692406Z",
     "start_time": "2025-02-13T08:48:15.641204Z"
    }
   },
   "cell_type": "code",
   "source": [
    "train_df: DataFrame = load_dataset(\"loan-approval-prediction-clone\", index=False)\n",
    "train_df.head()"
   ],
   "id": "e3c7573b037dba69",
   "outputs": [
    {
     "data": {
      "text/plain": [
       "    person_age  person_income person_home_ownership  person_emp_length  \\\n",
       "id                                                                       \n",
       "0           37          35000                  RENT                0.0   \n",
       "1           22          56000                   OWN                6.0   \n",
       "2           29          28800                   OWN                8.0   \n",
       "3           30          70000                  RENT               14.0   \n",
       "4           22          60000                  RENT                2.0   \n",
       "\n",
       "   loan_intent loan_grade  loan_amnt  loan_int_rate  loan_percent_income  \\\n",
       "id                                                                         \n",
       "0    EDUCATION          B       6000          11.49                 0.17   \n",
       "1      MEDICAL          C       4000          13.35                 0.07   \n",
       "2     PERSONAL          A       6000           8.90                 0.21   \n",
       "3      VENTURE          B      12000          11.11                 0.17   \n",
       "4      MEDICAL          A       6000           6.92                 0.10   \n",
       "\n",
       "   cb_person_default_on_file  cb_person_cred_hist_length  loan_status  \n",
       "id                                                                     \n",
       "0                          N                          14            0  \n",
       "1                          N                           2            0  \n",
       "2                          N                          10            0  \n",
       "3                          N                           5            0  \n",
       "4                          N                           3            0  "
      ],
      "text/html": [
       "<div>\n",
       "<style scoped>\n",
       "    .dataframe tbody tr th:only-of-type {\n",
       "        vertical-align: middle;\n",
       "    }\n",
       "\n",
       "    .dataframe tbody tr th {\n",
       "        vertical-align: top;\n",
       "    }\n",
       "\n",
       "    .dataframe thead th {\n",
       "        text-align: right;\n",
       "    }\n",
       "</style>\n",
       "<table border=\"1\" class=\"dataframe\">\n",
       "  <thead>\n",
       "    <tr style=\"text-align: right;\">\n",
       "      <th></th>\n",
       "      <th>person_age</th>\n",
       "      <th>person_income</th>\n",
       "      <th>person_home_ownership</th>\n",
       "      <th>person_emp_length</th>\n",
       "      <th>loan_intent</th>\n",
       "      <th>loan_grade</th>\n",
       "      <th>loan_amnt</th>\n",
       "      <th>loan_int_rate</th>\n",
       "      <th>loan_percent_income</th>\n",
       "      <th>cb_person_default_on_file</th>\n",
       "      <th>cb_person_cred_hist_length</th>\n",
       "      <th>loan_status</th>\n",
       "    </tr>\n",
       "    <tr>\n",
       "      <th>id</th>\n",
       "      <th></th>\n",
       "      <th></th>\n",
       "      <th></th>\n",
       "      <th></th>\n",
       "      <th></th>\n",
       "      <th></th>\n",
       "      <th></th>\n",
       "      <th></th>\n",
       "      <th></th>\n",
       "      <th></th>\n",
       "      <th></th>\n",
       "      <th></th>\n",
       "    </tr>\n",
       "  </thead>\n",
       "  <tbody>\n",
       "    <tr>\n",
       "      <th>0</th>\n",
       "      <td>37</td>\n",
       "      <td>35000</td>\n",
       "      <td>RENT</td>\n",
       "      <td>0.0</td>\n",
       "      <td>EDUCATION</td>\n",
       "      <td>B</td>\n",
       "      <td>6000</td>\n",
       "      <td>11.49</td>\n",
       "      <td>0.17</td>\n",
       "      <td>N</td>\n",
       "      <td>14</td>\n",
       "      <td>0</td>\n",
       "    </tr>\n",
       "    <tr>\n",
       "      <th>1</th>\n",
       "      <td>22</td>\n",
       "      <td>56000</td>\n",
       "      <td>OWN</td>\n",
       "      <td>6.0</td>\n",
       "      <td>MEDICAL</td>\n",
       "      <td>C</td>\n",
       "      <td>4000</td>\n",
       "      <td>13.35</td>\n",
       "      <td>0.07</td>\n",
       "      <td>N</td>\n",
       "      <td>2</td>\n",
       "      <td>0</td>\n",
       "    </tr>\n",
       "    <tr>\n",
       "      <th>2</th>\n",
       "      <td>29</td>\n",
       "      <td>28800</td>\n",
       "      <td>OWN</td>\n",
       "      <td>8.0</td>\n",
       "      <td>PERSONAL</td>\n",
       "      <td>A</td>\n",
       "      <td>6000</td>\n",
       "      <td>8.90</td>\n",
       "      <td>0.21</td>\n",
       "      <td>N</td>\n",
       "      <td>10</td>\n",
       "      <td>0</td>\n",
       "    </tr>\n",
       "    <tr>\n",
       "      <th>3</th>\n",
       "      <td>30</td>\n",
       "      <td>70000</td>\n",
       "      <td>RENT</td>\n",
       "      <td>14.0</td>\n",
       "      <td>VENTURE</td>\n",
       "      <td>B</td>\n",
       "      <td>12000</td>\n",
       "      <td>11.11</td>\n",
       "      <td>0.17</td>\n",
       "      <td>N</td>\n",
       "      <td>5</td>\n",
       "      <td>0</td>\n",
       "    </tr>\n",
       "    <tr>\n",
       "      <th>4</th>\n",
       "      <td>22</td>\n",
       "      <td>60000</td>\n",
       "      <td>RENT</td>\n",
       "      <td>2.0</td>\n",
       "      <td>MEDICAL</td>\n",
       "      <td>A</td>\n",
       "      <td>6000</td>\n",
       "      <td>6.92</td>\n",
       "      <td>0.10</td>\n",
       "      <td>N</td>\n",
       "      <td>3</td>\n",
       "      <td>0</td>\n",
       "    </tr>\n",
       "  </tbody>\n",
       "</table>\n",
       "</div>"
      ]
     },
     "execution_count": 97,
     "metadata": {},
     "output_type": "execute_result"
    }
   ],
   "execution_count": 97
  },
  {
   "metadata": {
    "ExecuteTime": {
     "end_time": "2025-02-13T08:48:15.696740Z",
     "start_time": "2025-02-13T08:48:15.693409Z"
    }
   },
   "cell_type": "code",
   "source": "train_df.dtypes",
   "id": "d354be58ba516ce",
   "outputs": [
    {
     "data": {
      "text/plain": [
       "person_age                      int64\n",
       "person_income                   int64\n",
       "person_home_ownership          object\n",
       "person_emp_length             float64\n",
       "loan_intent                    object\n",
       "loan_grade                     object\n",
       "loan_amnt                       int64\n",
       "loan_int_rate                 float64\n",
       "loan_percent_income           float64\n",
       "cb_person_default_on_file      object\n",
       "cb_person_cred_hist_length      int64\n",
       "loan_status                     int64\n",
       "dtype: object"
      ]
     },
     "execution_count": 98,
     "metadata": {},
     "output_type": "execute_result"
    }
   ],
   "execution_count": 98
  },
  {
   "metadata": {
    "ExecuteTime": {
     "end_time": "2025-02-13T08:48:15.727464Z",
     "start_time": "2025-02-13T08:48:15.696740Z"
    }
   },
   "cell_type": "code",
   "source": "reduce_mem_usage(train_df, deep=True)",
   "id": "2b928fd6ae3b577f",
   "outputs": [
    {
     "name": "stdout",
     "output_type": "stream",
     "text": [
      "Memory usage of properties dataframe is : 17.76529312133789  MB\n",
      "******************************\n",
      "Column:  person_age\n",
      "dtype before:  int64\n",
      "dtype after:  uint8\n",
      "******************************\n",
      "******************************\n",
      "Column:  person_income\n",
      "dtype before:  int64\n",
      "dtype after:  uint32\n",
      "******************************\n",
      "******************************\n",
      "Column:  person_emp_length\n",
      "dtype before:  float64\n",
      "dtype after:  uint8\n",
      "******************************\n",
      "******************************\n",
      "Column:  loan_amnt\n",
      "dtype before:  int64\n",
      "dtype after:  uint16\n",
      "******************************\n",
      "******************************\n",
      "Column:  loan_int_rate\n",
      "dtype before:  float64\n",
      "dtype after:  float32\n",
      "******************************\n",
      "******************************\n",
      "Column:  loan_percent_income\n",
      "dtype before:  float64\n",
      "dtype after:  float32\n",
      "******************************\n",
      "******************************\n",
      "Column:  cb_person_cred_hist_length\n",
      "dtype before:  int64\n",
      "dtype after:  uint8\n",
      "******************************\n",
      "******************************\n",
      "Column:  loan_status\n",
      "dtype before:  int64\n",
      "dtype after:  uint8\n",
      "******************************\n",
      "___MEMORY USAGE AFTER COMPLETION:___\n",
      "Memory usage is:  3.243837356567383  MB\n",
      "This is  18.259408017710726 % of the initial size\n"
     ]
    },
    {
     "data": {
      "text/plain": [
       "(       person_age  person_income person_home_ownership  person_emp_length  \\\n",
       " id                                                                          \n",
       " 0              37          35000                  RENT                  0   \n",
       " 1              22          56000                   OWN                  6   \n",
       " 2              29          28800                   OWN                  8   \n",
       " 3              30          70000                  RENT                 14   \n",
       " 4              22          60000                  RENT                  2   \n",
       " ...           ...            ...                   ...                ...   \n",
       " 58640          34         120000              MORTGAGE                  5   \n",
       " 58641          28          28800                  RENT                  0   \n",
       " 58642          23          44000                  RENT                  7   \n",
       " 58643          22          30000                  RENT                  2   \n",
       " 58644          31          75000              MORTGAGE                  2   \n",
       " \n",
       "       loan_intent loan_grade  loan_amnt  loan_int_rate  loan_percent_income  \\\n",
       " id                                                                            \n",
       " 0       EDUCATION          B       6000          11.49                 0.17   \n",
       " 1         MEDICAL          C       4000          13.35                 0.07   \n",
       " 2        PERSONAL          A       6000           8.90                 0.21   \n",
       " 3         VENTURE          B      12000          11.11                 0.17   \n",
       " 4         MEDICAL          A       6000           6.92                 0.10   \n",
       " ...           ...        ...        ...            ...                  ...   \n",
       " 58640   EDUCATION          D      25000          15.95                 0.21   \n",
       " 58641     MEDICAL          C      10000          12.73                 0.35   \n",
       " 58642   EDUCATION          D       6800          16.00                 0.15   \n",
       " 58643   EDUCATION          A       5000           8.90                 0.17   \n",
       " 58644     VENTURE          B      15000          11.11                 0.20   \n",
       " \n",
       "       cb_person_default_on_file  cb_person_cred_hist_length  loan_status  \n",
       " id                                                                        \n",
       " 0                             N                          14            0  \n",
       " 1                             N                           2            0  \n",
       " 2                             N                          10            0  \n",
       " 3                             N                           5            0  \n",
       " 4                             N                           3            0  \n",
       " ...                         ...                         ...          ...  \n",
       " 58640                         Y                          10            0  \n",
       " 58641                         N                           8            1  \n",
       " 58642                         N                           2            1  \n",
       " 58643                         N                           3            0  \n",
       " 58644                         N                           5            0  \n",
       " \n",
       " [58645 rows x 12 columns],\n",
       " [])"
      ]
     },
     "execution_count": 99,
     "metadata": {},
     "output_type": "execute_result"
    }
   ],
   "execution_count": 99
  },
  {
   "metadata": {
    "ExecuteTime": {
     "end_time": "2025-02-13T08:48:15.862829Z",
     "start_time": "2025-02-13T08:48:15.727464Z"
    }
   },
   "cell_type": "code",
   "source": [
    "plt.figure(figsize=(25, 5))\n",
    "sns.countplot(train_df['person_home_ownership'])"
   ],
   "id": "8dda0533446a1e38",
   "outputs": [
    {
     "data": {
      "text/plain": [
       "<Axes: xlabel='count', ylabel='person_home_ownership'>"
      ]
     },
     "execution_count": 100,
     "metadata": {},
     "output_type": "execute_result"
    },
    {
     "data": {
      "text/plain": [
       "<Figure size 2500x500 with 1 Axes>"
      ],
      "image/png": "[encoded data removed]"
     },
     "metadata": {},
     "output_type": "display_data"
    }
   ],
   "execution_count": 100
  },
  {
   "metadata": {
    "ExecuteTime": {
     "end_time": "2025-02-13T08:48:15.869548Z",
     "start_time": "2025-02-13T08:48:15.862829Z"
    }
   },
   "cell_type": "code",
   "source": [
    "categorical_cols = ['person_home_ownership', 'loan_intent', 'loan_grade','cb_person_default_on_file']\n",
    "\n",
    "#train_df = pd.get_dummies(train_df,\n",
    "#                          columns=categorical_cols,\n",
    "#                          drop_first=True)\n",
    "\n",
    "train_df.columns = [col.lower() for col in train_df.columns]\n",
    "\n",
    "train_df.head()"
   ],
   "id": "e4f7d13de238b642",
   "outputs": [
    {
     "data": {
      "text/plain": [
       "    person_age  person_income person_home_ownership  person_emp_length  \\\n",
       "id                                                                       \n",
       "0           37          35000                  RENT                  0   \n",
       "1           22          56000                   OWN                  6   \n",
       "2           29          28800                   OWN                  8   \n",
       "3           30          70000                  RENT                 14   \n",
       "4           22          60000                  RENT                  2   \n",
       "\n",
       "   loan_intent loan_grade  loan_amnt  loan_int_rate  loan_percent_income  \\\n",
       "id                                                                         \n",
       "0    EDUCATION          B       6000          11.49                 0.17   \n",
       "1      MEDICAL          C       4000          13.35                 0.07   \n",
       "2     PERSONAL          A       6000           8.90                 0.21   \n",
       "3      VENTURE          B      12000          11.11                 0.17   \n",
       "4      MEDICAL          A       6000           6.92                 0.10   \n",
       "\n",
       "   cb_person_default_on_file  cb_person_cred_hist_length  loan_status  \n",
       "id                                                                     \n",
       "0                          N                          14            0  \n",
       "1                          N                           2            0  \n",
       "2                          N                          10            0  \n",
       "3                          N                           5            0  \n",
       "4                          N                           3            0  "
      ],
      "text/html": [
       "<div>\n",
       "<style scoped>\n",
       "    .dataframe tbody tr th:only-of-type {\n",
       "        vertical-align: middle;\n",
       "    }\n",
       "\n",
       "    .dataframe tbody tr th {\n",
       "        vertical-align: top;\n",
       "    }\n",
       "\n",
       "    .dataframe thead th {\n",
       "        text-align: right;\n",
       "    }\n",
       "</style>\n",
       "<table border=\"1\" class=\"dataframe\">\n",
       "  <thead>\n",
       "    <tr style=\"text-align: right;\">\n",
       "      <th></th>\n",
       "      <th>person_age</th>\n",
       "      <th>person_income</th>\n",
       "      <th>person_home_ownership</th>\n",
       "      <th>person_emp_length</th>\n",
       "      <th>loan_intent</th>\n",
       "      <th>loan_grade</th>\n",
       "      <th>loan_amnt</th>\n",
       "      <th>loan_int_rate</th>\n",
       "      <th>loan_percent_income</th>\n",
       "      <th>cb_person_default_on_file</th>\n",
       "      <th>cb_person_cred_hist_length</th>\n",
       "      <th>loan_status</th>\n",
       "    </tr>\n",
       "    <tr>\n",
       "      <th>id</th>\n",
       "      <th></th>\n",
       "      <th></th>\n",
       "      <th></th>\n",
       "      <th></th>\n",
       "      <th></th>\n",
       "      <th></th>\n",
       "      <th></th>\n",
       "      <th></th>\n",
       "      <th></th>\n",
       "      <th></th>\n",
       "      <th></th>\n",
       "      <th></th>\n",
       "    </tr>\n",
       "  </thead>\n",
       "  <tbody>\n",
       "    <tr>\n",
       "      <th>0</th>\n",
       "      <td>37</td>\n",
       "      <td>35000</td>\n",
       "      <td>RENT</td>\n",
       "      <td>0</td>\n",
       "      <td>EDUCATION</td>\n",
       "      <td>B</td>\n",
       "      <td>6000</td>\n",
       "      <td>11.49</td>\n",
       "      <td>0.17</td>\n",
       "      <td>N</td>\n",
       "      <td>14</td>\n",
       "      <td>0</td>\n",
       "    </tr>\n",
       "    <tr>\n",
       "      <th>1</th>\n",
       "      <td>22</td>\n",
       "      <td>56000</td>\n",
       "      <td>OWN</td>\n",
       "      <td>6</td>\n",
       "      <td>MEDICAL</td>\n",
       "      <td>C</td>\n",
       "      <td>4000</td>\n",
       "      <td>13.35</td>\n",
       "      <td>0.07</td>\n",
       "      <td>N</td>\n",
       "      <td>2</td>\n",
       "      <td>0</td>\n",
       "    </tr>\n",
       "    <tr>\n",
       "      <th>2</th>\n",
       "      <td>29</td>\n",
       "      <td>28800</td>\n",
       "      <td>OWN</td>\n",
       "      <td>8</td>\n",
       "      <td>PERSONAL</td>\n",
       "      <td>A</td>\n",
       "      <td>6000</td>\n",
       "      <td>8.90</td>\n",
       "      <td>0.21</td>\n",
       "      <td>N</td>\n",
       "      <td>10</td>\n",
       "      <td>0</td>\n",
       "    </tr>\n",
       "    <tr>\n",
       "      <th>3</th>\n",
       "      <td>30</td>\n",
       "      <td>70000</td>\n",
       "      <td>RENT</td>\n",
       "      <td>14</td>\n",
       "      <td>VENTURE</td>\n",
       "      <td>B</td>\n",
       "      <td>12000</td>\n",
       "      <td>11.11</td>\n",
       "      <td>0.17</td>\n",
       "      <td>N</td>\n",
       "      <td>5</td>\n",
       "      <td>0</td>\n",
       "    </tr>\n",
       "    <tr>\n",
       "      <th>4</th>\n",
       "      <td>22</td>\n",
       "      <td>60000</td>\n",
       "      <td>RENT</td>\n",
       "      <td>2</td>\n",
       "      <td>MEDICAL</td>\n",
       "      <td>A</td>\n",
       "      <td>6000</td>\n",
       "      <td>6.92</td>\n",
       "      <td>0.10</td>\n",
       "      <td>N</td>\n",
       "      <td>3</td>\n",
       "      <td>0</td>\n",
       "    </tr>\n",
       "  </tbody>\n",
       "</table>\n",
       "</div>"
      ]
     },
     "execution_count": 101,
     "metadata": {},
     "output_type": "execute_result"
    }
   ],
   "execution_count": 101
  },
  {
   "metadata": {
    "ExecuteTime": {
     "end_time": "2025-02-13T08:48:15.877239Z",
     "start_time": "2025-02-13T08:48:15.869548Z"
    }
   },
   "cell_type": "code",
   "source": "train_df.dtypes",
   "id": "845a11ae866ca200",
   "outputs": [
    {
     "data": {
      "text/plain": [
       "person_age                      uint8\n",
       "person_income                  uint32\n",
       "person_home_ownership          object\n",
       "person_emp_length               uint8\n",
       "loan_intent                    object\n",
       "loan_grade                     object\n",
       "loan_amnt                      uint16\n",
       "loan_int_rate                 float32\n",
       "loan_percent_income           float32\n",
       "cb_person_default_on_file      object\n",
       "cb_person_cred_hist_length      uint8\n",
       "loan_status                     uint8\n",
       "dtype: object"
      ]
     },
     "execution_count": 102,
     "metadata": {},
     "output_type": "execute_result"
    }
   ],
   "execution_count": 102
  },
  {
   "metadata": {
    "ExecuteTime": {
     "end_time": "2025-02-13T08:48:15.884734Z",
     "start_time": "2025-02-13T08:48:15.877239Z"
    }
   },
   "cell_type": "code",
   "source": "train_df['person_age'].head()",
   "id": "cdee00f4726b9a74",
   "outputs": [
    {
     "data": {
      "text/plain": [
       "id\n",
       "0    37\n",
       "1    22\n",
       "2    29\n",
       "3    30\n",
       "4    22\n",
       "Name: person_age, dtype: uint8"
      ]
     },
     "execution_count": 103,
     "metadata": {},
     "output_type": "execute_result"
    }
   ],
   "execution_count": 103
  },
  {
   "metadata": {
    "ExecuteTime": {
     "end_time": "2025-02-13T08:50:02.015755Z",
     "start_time": "2025-02-13T08:50:01.946930Z"
    }
   },
   "cell_type": "code",
   "source": [
    "plt.figure(figsize=(25,5))\n",
    "sns.kdeplot(train_df['person_age'].value_counts(), alpha=0.8, color=color[3], fill=True)\n",
    "plt.xticks(rotation='vertical')\n",
    "plt.xlabel('Person Age', fontsize=12)\n",
    "plt.ylabel('Number of Occurrences', fontsize=12)\n",
    "plt.show()"
   ],
   "id": "5ce71250bb509847",
   "outputs": [
    {
     "data": {
      "text/plain": [
       "<Figure size 2500x500 with 1 Axes>"
      ],
      "image/png": "[encoded data removed]"
     },
     "metadata": {},
     "output_type": "display_data"
    }
   ],
   "execution_count": 109
  },
  {
   "metadata": {
    "ExecuteTime": {
     "end_time": "2025-02-13T08:50:11.603362Z",
     "start_time": "2025-02-13T08:50:11.532224Z"
    }
   },
   "cell_type": "code",
   "source": [
    "plt.figure(figsize=(25,5))\n",
    "sns.kdeplot(train_df['person_income'].value_counts(), alpha=0.8, color=color[3], fill=True)\n",
    "plt.xticks(rotation='vertical')\n",
    "plt.xlabel('Person Income', fontsize=12)\n",
    "plt.ylabel('Number of Occurrences', fontsize=12)\n",
    "plt.show()"
   ],
   "id": "93c3e1ac2f7c3607",
   "outputs": [
    {
     "data": {
      "text/plain": [
       "<Figure size 2500x500 with 1 Axes>"
      ],
      "image/png": "[encoded data removed]"
     },
     "metadata": {},
     "output_type": "display_data"
    }
   ],
   "execution_count": 110
  },
  {
   "metadata": {
    "ExecuteTime": {
     "end_time": "2025-02-13T08:48:16.053357Z",
     "start_time": "2025-02-13T08:48:16.051158Z"
    }
   },
   "cell_type": "code",
   "source": "",
   "id": "2400050e2447ea48",
   "outputs": [],
   "execution_count": 104
  }
 ],
 "metadata": {
  "kernelspec": {
   "display_name": "Python 3",
   "language": "python",
   "name": "python3"
  },
  "language_info": {
   "codemirror_mode": {
    "name": "ipython",
    "version": 2
   },
   "file_extension": ".py",
   "mimetype": "text/x-python",
   "name": "python",
   "nbconvert_exporter": "python",
   "pygments_lexer": "ipython2",
   "version": "2.7.6"
  }
 },
 "nbformat": 4,
 "nbformat_minor": 5
}
