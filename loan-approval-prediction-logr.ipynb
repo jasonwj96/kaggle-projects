{
 "cells": [
  {
   "cell_type": "code",
   "id": "initial_id",
   "metadata": {
    "collapsed": true,
    "ExecuteTime": {
     "end_time": "2025-02-27T13:22:33.723582Z",
     "start_time": "2025-02-27T13:22:33.602110Z"
    }
   },
   "source": [
    "import pandas as pd\n",
    "import torch\n",
    "import torch.nn as nn\n",
    "import numpy as np\n",
    "import tomllib\n",
    "from pathlib import Path\n",
    "from pandas import DataFrame\n",
    "from common.utils import load_dataset, optimize_memory\n",
    "import plotly.express as px\n",
    "import matplotlib.pyplot as plt\n",
    "from sklearn.linear_model import LogisticRegression\n",
    "from sklearn.model_selection import train_test_split\n",
    "from sklearn.impute import KNNImputer, SimpleImputer\n",
    "from sklearn.preprocessing import LabelEncoder, OneHotEncoder, StandardScaler\n",
    "from sklearn.compose import ColumnTransformer\n",
    "from sklearn.metrics import accuracy_score, classification_report, confusion_matrix\n",
    "import seaborn as sns\n",
    "import joblib\n",
    "import os"
   ],
   "outputs": [],
   "execution_count": 2
  },
  {
   "metadata": {},
   "cell_type": "markdown",
   "source": "### Exploratory Data Analysis",
   "id": "ce2fc909ed629b64"
  },
  {
   "metadata": {},
   "cell_type": "code",
   "source": "color = sns.color_palette()",
   "id": "34df61ad2b4a0121",
   "outputs": [],
   "execution_count": null
  },
  {
   "metadata": {
    "ExecuteTime": {
     "end_time": "2025-02-27T13:22:10.936537Z",
     "start_time": "2025-02-27T13:22:10.936537Z"
    }
   },
   "cell_type": "code",
   "source": [
    "train_df: DataFrame = load_dataset(\"loan-approval-prediction-clone\", index=False)\n",
    "train_df.head()"
   ],
   "id": "e3c7573b037dba69",
   "outputs": [],
   "execution_count": null
  },
  {
   "metadata": {},
   "cell_type": "code",
   "source": "train_df.info()",
   "id": "8c8f77b633d0fe46",
   "outputs": [],
   "execution_count": null
  },
  {
   "metadata": {
    "ExecuteTime": {
     "end_time": "2025-02-27T13:22:10.937536Z",
     "start_time": "2025-02-27T13:22:10.937536Z"
    }
   },
   "cell_type": "code",
   "source": "train_df.describe()",
   "id": "3fcd282f1bc00877",
   "outputs": [],
   "execution_count": null
  },
  {
   "metadata": {},
   "cell_type": "code",
   "source": "train_df.dtypes",
   "id": "d354be58ba516ce",
   "outputs": [],
   "execution_count": null
  },
  {
   "metadata": {},
   "cell_type": "code",
   "source": "optimize_memory(train_df, deep=True)",
   "id": "2b928fd6ae3b577f",
   "outputs": [],
   "execution_count": null
  },
  {
   "metadata": {},
   "cell_type": "code",
   "source": "train_df.dtypes",
   "id": "c11a02536a14a240",
   "outputs": [],
   "execution_count": null
  },
  {
   "metadata": {},
   "cell_type": "code",
   "source": "sns.countplot(train_df['person_home_ownership'])",
   "id": "8dda0533446a1e38",
   "outputs": [],
   "execution_count": null
  },
  {
   "metadata": {},
   "cell_type": "code",
   "source": "sns.countplot(train_df['loan_intent'])",
   "id": "9e1f3a98079973c7",
   "outputs": [],
   "execution_count": null
  },
  {
   "metadata": {},
   "cell_type": "code",
   "source": "sns.countplot(train_df['loan_grade'])",
   "id": "6782e2d5d040d0b8",
   "outputs": [],
   "execution_count": null
  },
  {
   "metadata": {},
   "cell_type": "code",
   "source": "sns.countplot(train_df['cb_person_default_on_file'])",
   "id": "8c800536d804349d",
   "outputs": [],
   "execution_count": null
  },
  {
   "metadata": {},
   "cell_type": "code",
   "source": [
    "categorical_cols = ['person_home_ownership', 'loan_intent', 'loan_grade',\n",
    "                    'cb_person_default_on_file']\n",
    "\n",
    "train_df = pd.get_dummies(train_df,\n",
    "                          columns=categorical_cols,\n",
    "                          drop_first=True)\n",
    "\n",
    "train_df.columns = [col.lower() for col in train_df.columns]\n",
    "\n",
    "train_df.head()"
   ],
   "id": "e4f7d13de238b642",
   "outputs": [],
   "execution_count": null
  },
  {
   "metadata": {},
   "cell_type": "code",
   "source": [
    "sns.histplot(train_df['person_age'], kde=True)\n",
    "plt.xticks(rotation='vertical')\n",
    "plt.xlabel('Person Age', fontsize=12)\n",
    "plt.ylabel('Number of Occurrences', fontsize=12)\n",
    "plt.show()"
   ],
   "id": "5ce71250bb509847",
   "outputs": [],
   "execution_count": null
  },
  {
   "metadata": {},
   "cell_type": "code",
   "source": [
    "sns.histplot(train_df['person_income'], kde=True)\n",
    "plt.xticks(rotation='vertical')\n",
    "plt.xlabel('Person Income', fontsize=12)\n",
    "plt.ylabel('Number of Occurrences', fontsize=12)\n",
    "plt.show()"
   ],
   "id": "93c3e1ac2f7c3607",
   "outputs": [],
   "execution_count": null
  },
  {
   "metadata": {},
   "cell_type": "code",
   "source": [
    "sns.histplot(train_df['person_emp_length'], kde=True)\n",
    "plt.xticks(rotation='vertical')\n",
    "plt.xlabel('Person Employment length', fontsize=12)\n",
    "plt.ylabel('Number of Occurrences', fontsize=12)\n",
    "plt.show()"
   ],
   "id": "2400050e2447ea48",
   "outputs": [],
   "execution_count": null
  },
  {
   "metadata": {
    "ExecuteTime": {
     "end_time": "2025-02-27T13:22:10.945630Z",
     "start_time": "2025-02-27T13:22:10.945630Z"
    }
   },
   "cell_type": "code",
   "source": [
    "sns.histplot(train_df['loan_amnt'], kde=True)\n",
    "plt.xticks(rotation='vertical')\n",
    "plt.xlabel('Person Employment length', fontsize=12)\n",
    "plt.ylabel('Number of Occurrences', fontsize=12)\n",
    "plt.show()"
   ],
   "id": "5813d1660729637a",
   "outputs": [],
   "execution_count": null
  },
  {
   "metadata": {
    "ExecuteTime": {
     "end_time": "2025-02-27T13:22:10.946630Z",
     "start_time": "2025-02-27T13:22:10.946630Z"
    }
   },
   "cell_type": "code",
   "source": [
    "sns.histplot(train_df['loan_int_rate'], kde=True)\n",
    "plt.xticks(rotation='vertical')\n",
    "plt.xlabel('Person Income', fontsize=12)\n",
    "plt.ylabel('Number of Occurrences', fontsize=12)\n",
    "plt.show()"
   ],
   "id": "845a983a04fc4b85",
   "outputs": [],
   "execution_count": null
  },
  {
   "metadata": {
    "ExecuteTime": {
     "end_time": "2025-02-27T13:22:10.947631Z",
     "start_time": "2025-02-27T13:22:10.947631Z"
    }
   },
   "cell_type": "code",
   "source": [
    "sns.histplot(train_df['loan_percent_income'], kde=True)\n",
    "plt.xticks(rotation='vertical')\n",
    "plt.xlabel('Person Income', fontsize=12)\n",
    "plt.ylabel('Number of Occurrences', fontsize=12)\n",
    "plt.show()"
   ],
   "id": "853b8c849bbc737",
   "outputs": [],
   "execution_count": null
  },
  {
   "metadata": {
    "ExecuteTime": {
     "end_time": "2025-02-27T13:22:10.949136Z",
     "start_time": "2025-02-27T13:22:10.949136Z"
    }
   },
   "cell_type": "code",
   "source": [
    "sns.histplot(train_df['cb_person_cred_hist_length'], kde=True)\n",
    "plt.xticks(rotation='vertical')\n",
    "plt.xlabel('Person Income', fontsize=12)\n",
    "plt.ylabel('Number of Occurrences', fontsize=12)\n",
    "plt.show()"
   ],
   "id": "b83fc1c539288e2a",
   "outputs": [],
   "execution_count": null
  },
  {
   "metadata": {},
   "cell_type": "code",
   "source": [
    "sns.histplot(train_df['loan_status'], kde=True)\n",
    "plt.xticks(rotation='vertical')\n",
    "plt.xlabel('Person Income', fontsize=12)\n",
    "plt.ylabel('Number of Occurrences', fontsize=12)\n",
    "plt.show()"
   ],
   "id": "a77af842b0adfb14",
   "outputs": [],
   "execution_count": null
  },
  {
   "metadata": {
    "ExecuteTime": {
     "end_time": "2025-02-27T13:22:10.951141Z",
     "start_time": "2025-02-27T13:22:10.951141Z"
    }
   },
   "cell_type": "code",
   "source": [
    "X = train_df.drop('loan_status', axis=1)\n",
    "y = train_df['loan_status']\n",
    "\n",
    "X.head()"
   ],
   "id": "a00fc8f6694ab0c1",
   "outputs": [],
   "execution_count": null
  },
  {
   "metadata": {},
   "cell_type": "code",
   "source": "y.head()",
   "id": "233d8518a82b0cdd",
   "outputs": [],
   "execution_count": null
  },
  {
   "metadata": {},
   "cell_type": "code",
   "source": [
    "X_train, X_test, y_train, y_test = train_test_split(X, y, test_size=0.2, random_state=42)\n",
    "X_train.head()"
   ],
   "id": "502105938d708e18",
   "outputs": [],
   "execution_count": null
  },
  {
   "metadata": {},
   "cell_type": "code",
   "source": [
    "scaler = StandardScaler()\n",
    "X_train = scaler.fit_transform(X_train)\n",
    "X_test = scaler.transform(X_test)\n",
    "\n",
    "model = LogisticRegression()\n",
    "model.fit(X_train, y_train)"
   ],
   "id": "62d1f2cb283e6aec",
   "outputs": [],
   "execution_count": null
  },
  {
   "metadata": {},
   "cell_type": "code",
   "source": [
    "y_pred = model.predict(X_test)\n",
    "\n",
    "# 6. Evaluate the model\n",
    "accuracy = accuracy_score(y_test, y_pred)\n",
    "print(f'Accuracy: {accuracy:.2f}')\n",
    "print('Confusion Matrix:')\n",
    "print(confusion_matrix(y_test, y_pred))\n",
    "print('\\nClassification Report:')\n",
    "print(classification_report(y_test, y_pred))"
   ],
   "id": "f3dd2a6658365dfd",
   "outputs": [],
   "execution_count": null
  },
  {
   "metadata": {},
   "cell_type": "code",
   "source": [
    "model_dir = \"models/\"\n",
    "os.makedirs(model_dir, exist_ok=True)  \n",
    "model_path = os.path.join(model_dir, \"logistic_regression_model.pkl\")\n",
    "joblib.dump(model, model_path)\n",
    "\n",
    "print(f\"Model saved to: {model_path}\")"
   ],
   "id": "fb8783b671e361dc",
   "outputs": [],
   "execution_count": null
  },
  {
   "metadata": {
    "ExecuteTime": {
     "end_time": "2025-02-27T13:22:10.957650Z",
     "start_time": "2025-02-27T13:22:10.956652Z"
    }
   },
   "cell_type": "code",
   "source": [
    "loaded_model = joblib.load(model_path)\n",
    "print(\"Model loaded successfully!\")"
   ],
   "id": "c287292ac60e3e6a",
   "outputs": [],
   "execution_count": null
  },
  {
   "metadata": {
    "ExecuteTime": {
     "end_time": "2025-02-27T13:22:10.957650Z",
     "start_time": "2025-02-27T13:22:10.957650Z"
    }
   },
   "cell_type": "code",
   "source": [
    "y_pred = loaded_model.predict(X_test)\n",
    "\n",
    "# 6. Evaluate the model\n",
    "accuracy = accuracy_score(y_test, y_pred)\n",
    "print(f'Accuracy: {accuracy:.2f}')\n",
    "print('Confusion Matrix:')\n",
    "print(confusion_matrix(y_test, y_pred))\n",
    "print('\\nClassification Report:')\n",
    "print(classification_report(y_test, y_pred))"
   ],
   "id": "b3c1fab6ea7d4ef6",
   "outputs": [],
   "execution_count": null
  }
 ],
 "metadata": {
  "kernelspec": {
   "display_name": "Python 3",
   "language": "python",
   "name": "python3"
  },
  "language_info": {
   "codemirror_mode": {
    "name": "ipython",
    "version": 2
   },
   "file_extension": ".py",
   "mimetype": "text/x-python",
   "name": "python",
   "nbconvert_exporter": "python",
   "pygments_lexer": "ipython2",
   "version": "2.7.6"
  }
 },
 "nbformat": 4,
 "nbformat_minor": 5
}
